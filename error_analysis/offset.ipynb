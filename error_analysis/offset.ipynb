{
 "cells": [
  {
   "cell_type": "code",
   "execution_count": 138,
   "metadata": {
    "ExecuteTime": {
     "end_time": "2023-02-01T05:20:46.980322Z",
     "start_time": "2023-02-01T05:20:46.956201Z"
    }
   },
   "outputs": [],
   "source": [
    "import fssa\n",
    "import numpy as np\n",
    "import matplotlib.pyplot as plt\n",
    "from itertools import product\n",
    "from scipy.optimize import curve_fit\n",
    "import matplotlib.colors as colors\n",
    "from numpy import polyfit, poly1d\n",
    "from scipy.interpolate import interp1d\n",
    "import glob\n",
    "from scipy import signal"
   ]
  },
  {
   "cell_type": "code",
   "execution_count": 6,
   "metadata": {
    "ExecuteTime": {
     "end_time": "2023-01-31T21:18:09.457132Z",
     "start_time": "2023-01-31T21:18:09.162562Z"
    }
   },
   "outputs": [
    {
     "data": {
      "text/plain": [
       "<matplotlib.legend.Legend at 0x1ac4e0bd9e8>"
      ]
     },
     "execution_count": 6,
     "metadata": {},
     "output_type": "execute_result"
    },
    {
     "data": {
      "image/png": "[encoded data removed]",
      "text/plain": [
       "<Figure size 432x288 with 1 Axes>"
      ]
     },
     "metadata": {
      "needs_background": "light"
     },
     "output_type": "display_data"
    }
   ],
   "source": [
    "sim = np.array([0.13792135, 0.12028111, 0.10784815 ,0.10242254 ,0.09802149, 0.09494422,\n",
    " 0.09208105, 0.08920631, 0.08717702])\n",
    "exp =np.array([0.1249,    0.0815,    0.0648 ,   0.0409 ,   0.0324,    0.0199,    0.0235,    0.0106,0.0112])\n",
    "N = len(sim)\n",
    "x = np.arange(1,N+1)\n",
    "plt.plot(x,sim,ls='',marker = 'o',label ='sim')\n",
    "plt.plot(x,exp,ls = '',marker = 'o',label = 'exp')\n",
    "plt.legend()"
   ]
  },
  {
   "cell_type": "code",
   "execution_count": 50,
   "metadata": {
    "ExecuteTime": {
     "end_time": "2023-01-31T21:50:34.155844Z",
     "start_time": "2023-01-31T21:50:34.140784Z"
    }
   },
   "outputs": [],
   "source": [
    "data = np.loadtxt('C:/Users/wangy/Rydberg simulation/rydberg_data/1_30_23/SigmaField_cooling_PS.csv', delimiter = ',')\n",
    "#data = np.loadtxt('C:/Users/wangy/Rydberg simulation/rydberg_data/1_30_23/SigmaField_NoRamancooling_PS.csv', delimiter = ',')\n",
    "\n"
   ]
  },
  {
   "cell_type": "code",
   "execution_count": 35,
   "metadata": {
    "ExecuteTime": {
     "end_time": "2023-01-31T21:44:52.548407Z",
     "start_time": "2023-01-31T21:44:52.540406Z"
    }
   },
   "outputs": [],
   "source": [
    "def power_law(x, a, b):\n",
    "    return a * x**b"
   ]
  },
  {
   "cell_type": "code",
   "execution_count": 144,
   "metadata": {
    "ExecuteTime": {
     "end_time": "2023-02-01T05:22:03.103217Z",
     "start_time": "2023-02-01T05:22:03.090530Z"
    }
   },
   "outputs": [
    {
     "data": {
      "text/plain": [
       "0.078"
      ]
     },
     "execution_count": 144,
     "metadata": {},
     "output_type": "execute_result"
    }
   ],
   "source": [
    "0.12*0.65"
   ]
  },
  {
   "cell_type": "code",
   "execution_count": 146,
   "metadata": {
    "ExecuteTime": {
     "end_time": "2023-02-01T05:22:13.352258Z",
     "start_time": "2023-02-01T05:22:13.080634Z"
    }
   },
   "outputs": [
    {
     "name": "stdout",
     "output_type": "stream",
     "text": [
      "0.036749675\n"
     ]
    },
    {
     "data": {
      "image/png": "[encoded data removed]",
      "text/plain": [
       "<Figure size 432x288 with 1 Axes>"
      ]
     },
     "metadata": {
      "needs_background": "light"
     },
     "output_type": "display_data"
    }
   ],
   "source": [
    "#plt.errorbar(data[:,0],data[:,1],data[:,2])\n",
    "print(np.average(data[:,1]))\n",
    "plt.errorbar(data[:,0],(data[:,1]+0.12)*0.65,data[:,2]*0.65,label = 'data*0.65+0.78')\n",
    "plt.plot(data[:,0],simdata[:],marker = 'o',ls = '',label = 'sim')\n",
    "plt.errorbar(data[:,0],(data[:,1]),data[:,2],label = 'data')\n",
    "\n",
    "#plt.plot(data[:,0],expdata2*0.63+0.075,marker = 'o',ls = '',label = 'Ryan')\n",
    "#plt.errorbar(data[:,0],data[:,1],data[:,2],ls = '',label = 'Fang',marker = 'o')\n",
    "\n",
    "#plt.plot(data[1:10,0],power_law(data[1:10,0],0.21,-0.3))\n",
    "plt.legend()\n",
    "plt.xscale('log')\n",
    "#plt.yscale('log')"
   ]
  },
  {
   "cell_type": "code",
   "execution_count": 38,
   "metadata": {
    "ExecuteTime": {
     "end_time": "2023-01-31T21:47:21.149761Z",
     "start_time": "2023-01-31T21:47:21.134590Z"
    }
   },
   "outputs": [],
   "source": [
    "simdata=np.array([0.23513887,0.13725895,0.12036162,0.10676615,0.09915829,0.09256072,0.08863921,0.08592485,0.08398068,0.08241807,0.0810125,0.0797318,0.07954196,0.07972313,0.08086032,0.08160596,0.08327514,0.08496372,0.08886353,0.09280065,0.09930302,0.10668414,0.12048065,0.1373209,])"
   ]
  },
  {
   "cell_type": "code",
   "execution_count": 39,
   "metadata": {
    "ExecuteTime": {
     "end_time": "2023-01-31T21:47:22.425547Z",
     "start_time": "2023-01-31T21:47:22.414550Z"
    }
   },
   "outputs": [
    {
     "data": {
      "text/plain": [
       "array([0.01530887, 0.01759895, 0.04496162, 0.04421715, 0.05828329,\n",
       "       0.05583872, 0.06424821, 0.05996885, 0.07100468, 0.06726707,\n",
       "       0.0713603 , 0.0637498 , 0.07390966, 0.06374113, 0.07120812,\n",
       "       0.06645496, 0.07029914, 0.05900772, 0.06447253, 0.05607865,\n",
       "       0.05842802, 0.04413514, 0.04508065, 0.0176609 ])"
      ]
     },
     "execution_count": 39,
     "metadata": {},
     "output_type": "execute_result"
    }
   ],
   "source": [
    "simdata - data[:,1]"
   ]
  },
  {
   "cell_type": "code",
   "execution_count": 115,
   "metadata": {
    "ExecuteTime": {
     "end_time": "2023-02-01T04:33:58.339364Z",
     "start_time": "2023-02-01T04:33:58.329370Z"
    }
   },
   "outputs": [],
   "source": [
    "expdata2 = np.array([0.2230,0.1116,0.0711,0.0480,0.0299,0.0234,0.0162,0.0145,0.0127,0.0104,0.0078,0.0076,0.0081,0.0076,0.0078,0.0104,0.0127,0.0145,0.0162,0.0234,0.0299,0.0480,0.0711,0.1116])"
   ]
  },
  {
   "cell_type": "code",
   "execution_count": null,
   "metadata": {},
   "outputs": [],
   "source": []
  }
 ],
 "metadata": {
  "kernelspec": {
   "display_name": "Python 3",
   "language": "python",
   "name": "python3"
  },
  "language_info": {
   "codemirror_mode": {
    "name": "ipython",
    "version": 3
   },
   "file_extension": ".py",
   "mimetype": "text/x-python",
   "name": "python",
   "nbconvert_exporter": "python",
   "pygments_lexer": "ipython3",
   "version": "3.7.3"
  }
 },
 "nbformat": 4,
 "nbformat_minor": 2
}
