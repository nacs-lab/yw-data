{
 "cells": [
  {
   "cell_type": "code",
   "execution_count": 2,
   "metadata": {
    "ExecuteTime": {
     "end_time": "2022-09-10T22:28:50.099875Z",
     "start_time": "2022-09-10T22:28:48.983304Z"
    }
   },
   "outputs": [],
   "source": [
    "import numpy as np\n",
    "import matplotlib.pyplot as plt\n"
   ]
  },
  {
   "cell_type": "code",
   "execution_count": 5,
   "metadata": {
    "ExecuteTime": {
     "end_time": "2022-09-10T22:32:05.958074Z",
     "start_time": "2022-09-10T22:32:05.938079Z"
    }
   },
   "outputs": [],
   "source": [
    "def expramp(t,final1,tau1,t1,final2,tau2,Lt,old):\n",
    "    #old initial detuning, final2: final detuning, final1: critical point\n",
    "    # Lt total sweep time, t1, sweep time from old to the initial detuning\n",
    "    # tau1 decay rate in the first step, tau2 decay right in the second step, the small tau corresponds to adiabetic sweep through the critical point\n",
    "    exp1 = np.exp(t1 / tau1)\n",
    "    exp1m = exp1-1\n",
    "    part1 = -np.exp(-t/tau1)*exp1*(final1-old)/exp1m+(exp1*final1-old)/exp1m\n",
    "    exp2m = np.exp((Lt-t1)/tau2)-1\n",
    "    exp2 = np.exp(Lt/tau2)\n",
    "    exp2a = np.exp(t1/tau2)\n",
    "    part2 = (final2 - final1)/exp2m*np.exp((t-t1)/tau2)+(-exp2*final1+exp2a*final2)/(exp2a-exp2)\n",
    "    out = old\n",
    "    if t<t1:\n",
    "        out = part1\n",
    "    elif t<Lt:\n",
    "        out = part2\n",
    "    else:\n",
    "        out = final2\n",
    "    return out\n",
    "    "
   ]
  },
  {
   "cell_type": "code",
   "execution_count": 3,
   "metadata": {
    "ExecuteTime": {
     "end_time": "2022-09-10T22:28:55.162505Z",
     "start_time": "2022-09-10T22:28:55.146031Z"
    }
   },
   "outputs": [
    {
     "data": {
      "text/plain": [
       "array([ 0,  3,  6,  9, 12, 15, 18, 21, 24, 27, 30, 33])"
      ]
     },
     "execution_count": 3,
     "metadata": {},
     "output_type": "execute_result"
    }
   ],
   "source": [
    "np.arange(0,36,3)"
   ]
  },
  {
   "cell_type": "code",
   "execution_count": 8,
   "metadata": {
    "ExecuteTime": {
     "end_time": "2022-09-10T22:32:31.408638Z",
     "start_time": "2022-09-10T22:32:31.230488Z"
    },
    "code_folding": []
   },
   "outputs": [
    {
     "data": {
      "image/png": "[encoded data removed]",
      "text/plain": [
       "<Figure size 432x288 with 1 Axes>"
      ]
     },
     "metadata": {
      "needs_background": "light"
     },
     "output_type": "display_data"
    }
   ],
   "source": [
    "t_list = np.arange(0,36,3)*0.0512\n",
    "y=[]\n",
    "final1 = 0.975\n",
    "tau1 = 0.1935\n",
    "t1 = 0.675\n",
    "final2 = 5.95\n",
    "tau2 = 0.1935\n",
    "Lt = 1.35\n",
    "old = -5.\n",
    "final1_2 = 5.95\n",
    "#y = expramp(1,1,1,2,1,t,2,0)\n",
    "# plt.plot(t, [expramp(t,final1_2,tau1,t1,final2,tau2,Lt,old) for t in t_list], '-')\n",
    "# plt.plot(t, [expramp(t,-1,tau1,t1,final2,tau2,Lt,old) for t in t_list], '-')\n",
    "# plt.plot(t, [expramp(t,0,tau1,t1,final2,tau2,Lt,old) for t in t_list], '-')\n",
    "plt.plot(t, [expramp(t,final1,tau1,t1,final2,tau2,Lt,old) for t in t_list], '-')\n",
    "plt.xlabel('time')\n",
    "plt.ylabel('detuning')\n",
    "plt.show() "
   ]
  },
  {
   "cell_type": "code",
   "execution_count": 1,
   "metadata": {
    "ExecuteTime": {
     "end_time": "2022-09-13T22:51:52.662944Z",
     "start_time": "2022-09-13T22:51:52.594721Z"
    }
   },
   "outputs": [
    {
     "ename": "NameError",
     "evalue": "name 'np' is not defined",
     "output_type": "error",
     "traceback": [
      "\u001b[1;31m---------------------------------------------------------------------------\u001b[0m",
      "\u001b[1;31mNameError\u001b[0m                                 Traceback (most recent call last)",
      "\u001b[1;32m<ipython-input-1-9e88cacfc883>\u001b[0m in \u001b[0;36m<module>\u001b[1;34m\u001b[0m\n\u001b[1;32m----> 1\u001b[1;33m \u001b[0mt_list\u001b[0m \u001b[1;33m=\u001b[0m \u001b[0mnp\u001b[0m\u001b[1;33m.\u001b[0m\u001b[0marange\u001b[0m\u001b[1;33m(\u001b[0m\u001b[1;36m0\u001b[0m\u001b[1;33m,\u001b[0m\u001b[1;36m36\u001b[0m\u001b[1;33m,\u001b[0m\u001b[1;36m3\u001b[0m\u001b[1;33m)\u001b[0m\u001b[1;33m*\u001b[0m\u001b[1;36m0.0512\u001b[0m\u001b[1;33m\u001b[0m\u001b[1;33m\u001b[0m\u001b[0m\n\u001b[0m\u001b[0;32m      2\u001b[0m \u001b[0my\u001b[0m\u001b[1;33m=\u001b[0m\u001b[1;33m[\u001b[0m\u001b[1;33m]\u001b[0m\u001b[1;33m\u001b[0m\u001b[1;33m\u001b[0m\u001b[0m\n\u001b[0;32m      3\u001b[0m \u001b[0mfinal1\u001b[0m \u001b[1;33m=\u001b[0m \u001b[1;36m0.95\u001b[0m\u001b[1;33m\u001b[0m\u001b[1;33m\u001b[0m\u001b[0m\n\u001b[0;32m      4\u001b[0m \u001b[0mtau1\u001b[0m \u001b[1;33m=\u001b[0m \u001b[1;36m0.1935\u001b[0m\u001b[1;33m\u001b[0m\u001b[1;33m\u001b[0m\u001b[0m\n\u001b[0;32m      5\u001b[0m \u001b[0mt1\u001b[0m \u001b[1;33m=\u001b[0m \u001b[1;36m0.675\u001b[0m\u001b[1;33m\u001b[0m\u001b[1;33m\u001b[0m\u001b[0m\n",
      "\u001b[1;31mNameError\u001b[0m: name 'np' is not defined"
     ]
    }
   ],
   "source": [
    "t_list = np.arange(0,36,3)*0.0512\n",
    "y=[]\n",
    "final1 = 0.95\n",
    "tau1 = 0.1935\n",
    "t1 = 0.675\n",
    "final2 = 5.95\n",
    "tau2 = 0.1935\n",
    "Lt = 1.35\n",
    "old = -4.\n",
    "final1_2 = 5.95\n",
    "#y = expramp(1,1,1,2,1,t,2,0)\n",
    "# plt.plot(t, [expramp(t,final1_2,tau1,t1,final2,tau2,Lt,old) for t in t_list], '-')\n",
    "# plt.plot(t, [expramp(t,-1,tau1,t1,final2,tau2,Lt,old) for t in t_list], '-')\n",
    "# plt.plot(t, [expramp(t,0,tau1,t1,final2,tau2,Lt,old) for t in t_list], '-')\n",
    "plt.plot(t, [expramp(t,final1,tau1,t1,final2,tau2,Lt,old) for t in t_list], '-')\n",
    "plt.xlabel('time')\n",
    "plt.ylabel('detuning')\n",
    "plt.show() "
   ]
  },
  {
   "cell_type": "code",
   "execution_count": null,
   "metadata": {},
   "outputs": [],
   "source": []
  }
 ],
 "metadata": {
  "kernelspec": {
   "display_name": "Python 3",
   "language": "python",
   "name": "python3"
  },
  "language_info": {
   "codemirror_mode": {
    "name": "ipython",
    "version": 3
   },
   "file_extension": ".py",
   "mimetype": "text/x-python",
   "name": "python",
   "nbconvert_exporter": "python",
   "pygments_lexer": "ipython3",
   "version": "3.7.3"
  }
 },
 "nbformat": 4,
 "nbformat_minor": 2
}
