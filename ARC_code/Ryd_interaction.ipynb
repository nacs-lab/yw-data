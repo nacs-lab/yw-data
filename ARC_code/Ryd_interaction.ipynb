{
 "cells": [
  {
   "cell_type": "code",
   "execution_count": 1,
   "metadata": {
    "ExecuteTime": {
     "end_time": "2022-12-05T15:35:50.426880Z",
     "start_time": "2022-12-05T15:35:46.813115Z"
    }
   },
   "outputs": [],
   "source": [
    "%matplotlib inline\n",
    "import matplotlib.pyplot as plt  # Import library for direct plotting functions\n",
    "import numpy as np               # Import Numerical Python\n",
    "from IPython.display import display, HTML #Import HTML for formatting output\n",
    "import arc\n",
    "from arc import *                 #Import ARC (Alkali Rydberg Calculator)"
   ]
  },
  {
   "cell_type": "code",
   "execution_count": 7,
   "metadata": {
    "ExecuteTime": {
     "end_time": "2022-12-05T15:44:07.788548Z",
     "start_time": "2022-12-05T15:43:42.603988Z"
    }
   },
   "outputs": [
    {
     "name": "stdout",
     "output_type": "stream",
     "text": [
      "for Cs nS1/2\n",
      "C_6 [50 S 1/2 m_j= 1/2] = -11 GHz (mu m)^6\t3.6 MHz\n",
      "C_6 [51 S 1/2 m_j= 1/2] = -14 GHz (mu m)^6\t4.6 MHz\n",
      "C_6 [52 S 1/2 m_j= 1/2] = -18 GHz (mu m)^6\t5.9 MHz\n",
      "C_6 [53 S 1/2 m_j= 1/2] = -22 GHz (mu m)^6\t7.4 MHz\n",
      "C_6 [54 S 1/2 m_j= 1/2] = -28 GHz (mu m)^6\t9.4 MHz\n",
      "C_6 [55 S 1/2 m_j= 1/2] = -35 GHz (mu m)^6\t11.7 MHz\n",
      "C_6 [56 S 1/2 m_j= 1/2] = -44 GHz (mu m)^6\t14.6 MHz\n",
      "C_6 [57 S 1/2 m_j= 1/2] = -55 GHz (mu m)^6\t18.1 MHz\n",
      "C_6 [58 S 1/2 m_j= 1/2] = -68 GHz (mu m)^6\t22.4 MHz\n",
      "C_6 [59 S 1/2 m_j= 1/2] = -83 GHz (mu m)^6\t27.6 MHz\n",
      "C_6 [60 S 1/2 m_j= 1/2] = -102 GHz (mu m)^6\t33.8 MHz\n",
      "C_6 [61 S 1/2 m_j= 1/2] = -121 GHz (mu m)^6\t40.2 MHz\n",
      "C_6 [62 S 1/2 m_j= 1/2] = -149 GHz (mu m)^6\t49.4 MHz\n",
      "C_6 [63 S 1/2 m_j= 1/2] = -182 GHz (mu m)^6\t60.5 MHz\n",
      "C_6 [64 S 1/2 m_j= 1/2] = -221 GHz (mu m)^6\t73.3 MHz\n",
      "C_6 [65 S 1/2 m_j= 1/2] = -266 GHz (mu m)^6\t88.4 MHz\n",
      "C_6 [66 S 1/2 m_j= 1/2] = -320 GHz (mu m)^6\t106.3 MHz\n",
      "C_6 [67 S 1/2 m_j= 1/2] = -384 GHz (mu m)^6\t127.5 MHz\n",
      "C_6 [68 S 1/2 m_j= 1/2] = -459 GHz (mu m)^6\t152.3 MHz\n",
      "C_6 [69 S 1/2 m_j= 1/2] = -547 GHz (mu m)^6\t181.6 MHz\n"
     ]
    }
   ],
   "source": [
    "Radius = 3.8 # in um\n",
    "nList = np.arange(50,70)\n",
    "c6List = []\n",
    "interactionlist = []\n",
    "print(\"for Cs nS1/2\")\n",
    "for n in nList:\n",
    "    calculation1 = PairStateInteractions(Cesium(), n, 0, 0.5, n, 0, 0.5, 0.5, 0.5)\n",
    "    state = printStateString(n,0,0.5)+\" m_j= 1/2\"\n",
    "    c6 = calculation1.getC6perturbatively(0,0, 5, 35e9)\n",
    "    interaction = (abs(c6/Radius**6))\n",
    "    interaction = interaction * 1e3\n",
    "    print(\"C_6 [%s] = %.0f GHz (mu m)^6\\t%.1f MHz\" % (state,c6,interaction))\n",
    "    c6List.append(c6)\n",
    "    interactionlist.append(interaction)"
   ]
  },
  {
   "cell_type": "code",
   "execution_count": 13,
   "metadata": {
    "ExecuteTime": {
     "end_time": "2022-12-05T15:45:04.074249Z",
     "start_time": "2022-12-05T15:45:04.048911Z"
    }
   },
   "outputs": [
    {
     "name": "stdout",
     "output_type": "stream",
     "text": [
      "[[  50.          -10.91198296]\n",
      " [  51.          -13.93945473]\n",
      " [  52.          -17.71346508]\n",
      " [  53.          -22.39603699]\n",
      " [  54.          -28.1799246 ]\n",
      " [  55.          -35.29333802]\n",
      " [  56.          -44.00568369]\n",
      " [  57.          -54.63424729]\n",
      " [  58.          -67.55075249]\n",
      " [  59.          -83.16896858]\n",
      " [  60.         -101.72131763]\n",
      " [  61.         -120.97474176]\n",
      " [  62.         -148.62569785]\n",
      " [  63.         -182.1903643 ]\n",
      " [  64.         -220.79024023]\n",
      " [  65.         -266.29693021]\n",
      " [  66.         -320.16589906]\n",
      " [  67.         -383.77687387]\n",
      " [  68.         -458.68960911]\n",
      " [  69.         -546.68275038]]\n"
     ]
    }
   ],
   "source": [
    "nList = np.arange(50,70)\n",
    "data = np.transpose(np.array([nList,c6List]))\n",
    "for n in nList:\n",
    "    print('C6() = '%data)"
   ]
  },
  {
   "cell_type": "code",
   "execution_count": 15,
   "metadata": {
    "ExecuteTime": {
     "end_time": "2022-12-05T15:45:35.162390Z",
     "start_time": "2022-12-05T15:45:35.151426Z"
    }
   },
   "outputs": [
    {
     "data": {
      "text/plain": [
       "13.281533126754876"
      ]
     },
     "execution_count": 15,
     "metadata": {},
     "output_type": "execute_result"
    }
   ],
   "source": [
    " 20/(-101.72131763/ -67.55075249)"
   ]
  },
  {
   "cell_type": "code",
   "execution_count": 16,
   "metadata": {
    "ExecuteTime": {
     "end_time": "2022-12-05T19:23:18.100660Z",
     "start_time": "2022-12-05T19:23:18.072246Z"
    }
   },
   "outputs": [
    {
     "data": {
      "text/plain": [
       "0.03289473684210526"
      ]
     },
     "execution_count": 16,
     "metadata": {},
     "output_type": "execute_result"
    }
   ],
   "source": [
    "15/456"
   ]
  },
  {
   "cell_type": "code",
   "execution_count": null,
   "metadata": {},
   "outputs": [],
   "source": []
  }
 ],
 "metadata": {
  "kernelspec": {
   "display_name": "Python 3",
   "language": "python",
   "name": "python3"
  },
  "language_info": {
   "codemirror_mode": {
    "name": "ipython",
    "version": 3
   },
   "file_extension": ".py",
   "mimetype": "text/x-python",
   "name": "python",
   "nbconvert_exporter": "python",
   "pygments_lexer": "ipython3",
   "version": "3.7.3"
  }
 },
 "nbformat": 4,
 "nbformat_minor": 2
}
