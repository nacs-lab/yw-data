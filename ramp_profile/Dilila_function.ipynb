{
 "cells": [
  {
   "cell_type": "code",
   "execution_count": 1,
   "metadata": {
    "ExecuteTime": {
     "end_time": "2023-02-09T17:02:21.475447Z",
     "start_time": "2023-02-09T17:02:20.210423Z"
    }
   },
   "outputs": [],
   "source": [
    "import numpy as np\n",
    "import matplotlib.pyplot as plt\n",
    "\n",
    "def DILILA(t,t_len, dinit,gapinit,gapcrit,gapfin,dcrit,dfin,tinflect):\n",
    "    numstep1 = gapinit* dcrit* t + gapcrit* dinit*(tinflect -t)\n",
    "    denomsteps1 = gapinit* t + gapcrit * (tinflect - t)\n",
    "    numstep2 = gapfin* dcrit*(t_len - t ) + gapcrit* dfin*(t-tinflect)\n",
    "    denomsteps2 = gapfin*(t_len -t) +gapcrit*(t-tinflect)\n",
    "    if t>t_len:\n",
    "        out = dfin\n",
    "    elif t>tinflect:\n",
    "        out = numstep2/denomsteps2\n",
    "    else:\n",
    "        out = numstep1/denomsteps1\n",
    "    return out\n",
    "def UniLILA(t,t_len, dinit,gapinit,gapcrit,dcrit):\n",
    "    numstep1 = gapinit* dcrit* t + gapcrit* dinit*(t_len -t)\n",
    "    denomsteps1 = gapinit* t + gapcrit * (t_len - t)\n",
    "    if t>t_len:\n",
    "        out = dcrit\n",
    "    else:\n",
    "        out = numstep1/denomsteps1\n",
    "    return out"
   ]
  },
  {
   "cell_type": "code",
   "execution_count": 2,
   "metadata": {
    "ExecuteTime": {
     "end_time": "2023-02-09T17:02:22.104298Z",
     "start_time": "2023-02-09T17:02:22.092341Z"
    }
   },
   "outputs": [
    {
     "name": "stdout",
     "output_type": "stream",
     "text": [
      "13\n"
     ]
    }
   ],
   "source": [
    "Rabi_ramp_time = 1\n",
    "T_UniLILA = 4.5\n",
    "T_UniLILA_stop = 3\n",
    "gapinit= 5.26\n",
    "gapcrit = 0.355\n",
    "t_wait = 2\n",
    "dinit = -5.0\n",
    "dcrit = 1.53\n",
    "Omega = 2\n",
    "auto_tinflect = 0\n",
    "T_total = 13\n",
    "t = np.arange(0,T_total,0.0001)\n",
    "print(T_total)"
   ]
  },
  {
   "cell_type": "code",
   "execution_count": 19,
   "metadata": {
    "ExecuteTime": {
     "end_time": "2023-02-09T19:55:20.213963Z",
     "start_time": "2023-02-09T19:55:19.370407Z"
    },
    "scrolled": true
   },
   "outputs": [
    {
     "name": "stdout",
     "output_type": "stream",
     "text": [
      "0.6762\n",
      "1.3523\n",
      "2.7047000000000003\n",
      "3.6062000000000003\n"
     ]
    },
    {
     "data": {
      "image/png": "[encoded data removed]",
      "text/plain": [
       "<Figure size 432x288 with 1 Axes>"
      ]
     },
     "metadata": {
      "needs_background": "light"
     },
     "output_type": "display_data"
    }
   ],
   "source": [
    "det1 = []\n",
    "det2 = []\n",
    "det3 = []\n",
    "det4 = []\n",
    "for t_i in t:\n",
    "    det1.append(UniLILA(t_i,T_UniLILA/4,dinit,gapinit,gapcrit,dcrit))\n",
    "    det2.append(UniLILA(t_i,T_UniLILA/2,dinit,gapinit,gapcrit,dcrit))\n",
    "    det3.append(UniLILA(t_i,T_UniLILA,dinit,gapinit,gapcrit,dcrit))\n",
    "    det4.append(UniLILA(t_i,6,dinit,gapinit,gapcrit,dcrit))\n",
    "\n",
    "plt.plot(t,det1)    \n",
    "plt.plot(t,det2)    \n",
    "plt.plot(t,det3)\n",
    "plt.plot(t,det4)\n",
    "\n",
    "detuningcutoff = 1.25\n",
    "id1 = np.argmin(abs(np.array(det1)-detuningcutoff))\n",
    "id2 = np.argmin(abs(np.array(det2)-detuningcutoff))\n",
    "id3 = np.argmin(abs(np.array(det3)-detuningcutoff))\n",
    "id4 = np.argmin(abs(np.array(det4)-detuningcutoff))\n",
    "\n",
    "print(t[id1])\n",
    "print(t[id2])\n",
    "print(t[id3])\n",
    "print(t[id4])"
   ]
  },
  {
   "cell_type": "code",
   "execution_count": 7,
   "metadata": {
    "ExecuteTime": {
     "end_time": "2023-02-09T17:05:44.402145Z",
     "start_time": "2023-02-09T17:05:44.387677Z"
    }
   },
   "outputs": [
    {
     "data": {
      "text/plain": [
       "1.125"
      ]
     },
     "execution_count": 7,
     "metadata": {},
     "output_type": "execute_result"
    }
   ],
   "source": [
    "4.5/4"
   ]
  },
  {
   "cell_type": "code",
   "execution_count": 81,
   "metadata": {
    "ExecuteTime": {
     "end_time": "2023-02-06T21:13:08.433962Z",
     "start_time": "2023-02-06T21:13:08.308487Z"
    }
   },
   "outputs": [
    {
     "data": {
      "text/plain": [
       "[<matplotlib.lines.Line2D at 0x276707abb70>]"
      ]
     },
     "execution_count": 81,
     "metadata": {},
     "output_type": "execute_result"
    },
    {
     "data": {
      "image/png": "[encoded data removed]",
      "text/plain": [
       "<Figure size 432x288 with 1 Axes>"
      ]
     },
     "metadata": {
      "needs_background": "light"
     },
     "output_type": "display_data"
    }
   ],
   "source": [
    "detuning = []\n",
    "rabi = []\n",
    "for t_i in t:\n",
    "    detuning.append(Deltafunc(t_i))\n",
    "    rabi.append(Omegafunc(t_i))\n",
    "plt.plot(t,detuning)\n",
    "plt.plot(t,rabi)"
   ]
  },
  {
   "cell_type": "code",
   "execution_count": 69,
   "metadata": {
    "ExecuteTime": {
     "end_time": "2023-02-06T21:08:56.850456Z",
     "start_time": "2023-02-06T21:08:56.840467Z"
    }
   },
   "outputs": [],
   "source": [
    "def Deltafunc(time):\n",
    "    if 0<=time<Rabi_ramp_time:\n",
    "        return dinit\n",
    "    if Rabi_ramp_time<= time <Rabi_ramp_time+T_UniLILA_stop:\n",
    "        return UniLILA(time-Rabi_ramp_time,T_UniLILA,dinit,gapinit, gapcrit,dcrit)\n",
    "    if Rabi_ramp_time+T_UniLILA_stop <= time < T_UniLILA_stop + Rabi_ramp_time+ t_wait:\n",
    "        return UniLILA(T_UniLILA_stop,T_UniLILA,dinit,gapinit, gapcrit,dcrit)\n",
    "    if  T_UniLILA_stop + Rabi_ramp_time+ t_wait <= time <  2*T_UniLILA_stop + Rabi_ramp_time+ t_wait:\n",
    "        temp_t = T_total-time\n",
    "        return UniLILA(temp_t-Rabi_ramp_time,T_UniLILA,dinit,gapinit, gapcrit,dcrit)\n",
    "    if 2*T_UniLILA_stop + Rabi_ramp_time+ t_wait<= time <= T_total:\n",
    "        return dinit\n",
    "    else: \n",
    "        print('detuning t out of range ', str(t))\n",
    "        return "
   ]
  },
  {
   "cell_type": "code",
   "execution_count": 80,
   "metadata": {
    "ExecuteTime": {
     "end_time": "2023-02-06T21:13:05.859229Z",
     "start_time": "2023-02-06T21:13:05.843212Z"
    }
   },
   "outputs": [],
   "source": [
    "def Omegafunc(time):\n",
    "    if 0 <= time < Rabi_ramp_time:\n",
    "        return Omega*time/Rabi_ramp_time\n",
    "    if Rabi_ramp_time<= time < T_total -Rabi_ramp_time:\n",
    "        return Omega\n",
    "    if T_total -Rabi_ramp_time <= time<= T_total:\n",
    "        return Omega*(T_total-time)/Rabi_ramp_time\n",
    "    else:\n",
    "        print('Omega t out of range',str(t))\n",
    "        return"
   ]
  },
  {
   "cell_type": "code",
   "execution_count": 84,
   "metadata": {
    "ExecuteTime": {
     "end_time": "2023-02-06T21:45:37.223998Z",
     "start_time": "2023-02-06T21:45:37.208999Z"
    }
   },
   "outputs": [],
   "source": [
    "import random as random\n",
    "N=20"
   ]
  },
  {
   "cell_type": "code",
   "execution_count": 86,
   "metadata": {
    "ExecuteTime": {
     "end_time": "2023-02-06T21:50:37.953556Z",
     "start_time": "2023-02-06T21:50:37.948554Z"
    }
   },
   "outputs": [],
   "source": [
    "site_dep_rabi = 0.2*(np.random.random(N)-0.5)\n",
    "site_dep_interaction = (np.random.random(N)-0.5)"
   ]
  },
  {
   "cell_type": "code",
   "execution_count": 88,
   "metadata": {
    "ExecuteTime": {
     "end_time": "2023-02-06T21:50:50.599186Z",
     "start_time": "2023-02-06T21:50:50.476714Z"
    }
   },
   "outputs": [
    {
     "data": {
      "text/plain": [
       "[<matplotlib.lines.Line2D at 0x2767084fc50>]"
      ]
     },
     "execution_count": 88,
     "metadata": {},
     "output_type": "execute_result"
    },
    {
     "data": {
      "image/png": "[encoded data removed]",
      "text/plain": [
       "<Figure size 432x288 with 1 Axes>"
      ]
     },
     "metadata": {
      "needs_background": "light"
     },
     "output_type": "display_data"
    }
   ],
   "source": [
    "plt.plot(site_dep_interaction)"
   ]
  },
  {
   "cell_type": "code",
   "execution_count": null,
   "metadata": {},
   "outputs": [],
   "source": []
  }
 ],
 "metadata": {
  "kernelspec": {
   "display_name": "Python 3",
   "language": "python",
   "name": "python3"
  },
  "language_info": {
   "codemirror_mode": {
    "name": "ipython",
    "version": 3
   },
   "file_extension": ".py",
   "mimetype": "text/x-python",
   "name": "python",
   "nbconvert_exporter": "python",
   "pygments_lexer": "ipython3",
   "version": "3.7.3"
  }
 },
 "nbformat": 4,
 "nbformat_minor": 2
}
