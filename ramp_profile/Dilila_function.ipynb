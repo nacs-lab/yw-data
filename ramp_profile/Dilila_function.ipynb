{
 "cells": [
  {
   "cell_type": "code",
   "execution_count": 29,
   "metadata": {
    "ExecuteTime": {
     "end_time": "2023-01-04T20:25:13.117978Z",
     "start_time": "2023-01-04T20:25:12.865559Z"
    }
   },
   "outputs": [],
   "source": [
    "import numpy as np\n",
    "import matplotlib.pyplot as plt\n",
    "\n",
    "def DILILA(t,t_len, dinit,gapinit,gapcrit,gapfin,dcrit,dfin,tinflect):\n",
    "    numstep1 = gapinit* dcrit* t + gapcrit* dinit*(tinflect -t)\n",
    "    denomsteps1 = gapinit* t + gapcrit * (tinflect - t)\n",
    "    numstep2 = gapfin* dcrit*(t_len - t ) + gapcrit* dfin*(t-tinflect)\n",
    "    denomsteps2 = gapfin*(t_len -t) +gapcrit*(t-tinflect)\n",
    "    if t>t_len:\n",
    "        out = dfin\n",
    "    elif t>tinflect:\n",
    "        out = numstep2/denomsteps2\n",
    "    else:\n",
    "        out = numstep1/denomsteps1\n",
    "    return out\n"
   ]
  },
  {
   "cell_type": "code",
   "execution_count": 21,
   "metadata": {
    "ExecuteTime": {
     "end_time": "2023-01-04T20:24:10.494065Z",
     "start_time": "2023-01-04T20:24:10.473692Z"
    }
   },
   "outputs": [],
   "source": [
    "Rabi_ramp_time = 2.0\n",
    "T_DiLILA=10.0\n",
    "gapinit= 5.26\n",
    "gapcrit = 0.767\n",
    "gapfin = 1.63\n",
    "dinit = -5.0\n",
    "dcrit = 1.3\n",
    "dfin = 3.0\n",
    "auto_tinflect = 1\n"
   ]
  },
  {
   "cell_type": "code",
   "execution_count": 34,
   "metadata": {
    "ExecuteTime": {
     "end_time": "2023-01-04T20:26:15.838930Z",
     "start_time": "2023-01-04T20:26:15.825932Z"
    }
   },
   "outputs": [],
   "source": [
    "def Deltafunc(time):\n",
    "    t = time - Rabi_ramp_time\n",
    "    if auto_tinflect:  # automatcally generate the tinflect according to the detuning ratio\n",
    "        tinflect = T_DiLILA*(dcrit-dinit)/(dfin-dinit)\n",
    "    else:\n",
    "        tinflect = params['t_inflect']\n",
    "    if t<0:\n",
    "        return dinit\n",
    "    else:\n",
    "        return DILILA(t,T_DiLILA, dinit,gapinit,gapcrit,gapfin,dcrit,dfin,tinflect)"
   ]
  },
  {
   "cell_type": "code",
   "execution_count": 7,
   "metadata": {
    "ExecuteTime": {
     "end_time": "2023-01-04T20:17:11.776804Z",
     "start_time": "2023-01-04T20:17:11.753736Z"
    }
   },
   "outputs": [],
   "source": [
    "t = np.array([ 0.   ,  0.1  ,  0.2  ,  0.3  ,  0.4  ,  0.5  ,  0.6  ,  0.7  ,\n",
    "        0.8  ,  0.9  ,  1.   ,  1.1  ,  1.2  ,  1.3  ,  1.4  ,  1.5  ,\n",
    "        1.6  ,  1.7  ,  1.8  ,  1.9  ,  2.   ,  2.052,  2.104,  2.156,\n",
    "        2.208,  2.26 ,  2.312,  2.364,  2.416,  2.468,  2.52 ,  2.572,\n",
    "        2.624,  2.676,  2.728,  2.78 ,  2.832,  2.884,  2.936,  2.988,\n",
    "        3.04 ,  3.092,  3.144,  3.196,  3.248,  3.3  ,  3.352,  3.404,\n",
    "        3.456,  3.508,  3.56 ,  3.612,  3.664,  3.716,  3.768,  3.82 ,\n",
    "        3.872,  3.924,  3.976,  4.028,  4.08 ,  4.132,  4.184,  4.236,\n",
    "        4.288,  4.34 ,  4.392,  4.444,  4.496,  4.548,  4.6  ,  4.652,\n",
    "        4.704,  4.756,  4.808,  4.86 ,  4.912,  4.964,  5.016,  5.068,\n",
    "        5.12 ,  5.172,  5.224,  5.276,  5.328,  5.38 ,  5.432,  5.484,\n",
    "        5.536,  5.588,  5.64 ,  5.692,  5.744,  5.796,  5.848,  5.9  ,\n",
    "        5.952,  6.004,  6.056,  6.108,  6.16 ,  6.212,  6.264,  6.316,\n",
    "        6.368,  6.42 ,  6.472,  6.524,  6.576,  6.628,  6.68 ,  6.732,\n",
    "        6.784,  6.836,  6.888,  6.94 ,  6.992,  7.044,  7.096,  7.148,\n",
    "        7.2  ,  7.252,  7.304,  7.356,  7.408,  7.46 ,  7.512,  7.564,\n",
    "        7.616,  7.668,  7.72 ,  7.772,  7.824,  7.876,  7.928,  7.98 ,\n",
    "        8.032,  8.084,  8.136,  8.188,  8.24 ,  8.292,  8.344,  8.396,\n",
    "        8.448,  8.5  ,  8.552,  8.604,  8.656,  8.708,  8.76 ,  8.812,\n",
    "        8.864,  8.916,  8.968,  9.02 ,  9.072,  9.124,  9.176,  9.228,\n",
    "        9.28 ,  9.332,  9.384,  9.436,  9.488,  9.54 ,  9.592,  9.644,\n",
    "        9.696,  9.748,  9.8  ,  9.852,  9.904,  9.956, 10.008, 10.06 ,\n",
    "       10.112, 10.164, 10.216, 10.268, 10.32 , 10.372, 10.424, 10.476,\n",
    "       10.528, 10.58 , 10.632, 10.684, 10.736, 10.788, 10.84 , 10.892,\n",
    "       10.944, 10.996, 11.048, 11.1  , 11.152, 11.204, 11.256, 11.308,\n",
    "       11.36 , 11.412, 11.464, 11.516, 11.568, 11.62 , 11.672, 11.724,\n",
    "       11.776, 11.828, 11.88 , 11.932, 11.984])"
   ]
  },
  {
   "cell_type": "code",
   "execution_count": 46,
   "metadata": {
    "ExecuteTime": {
     "end_time": "2023-01-04T20:30:38.669887Z",
     "start_time": "2023-01-04T20:30:38.038906Z"
    },
    "scrolled": false
   },
   "outputs": [
    {
     "data": {
      "text/plain": [
       "[<matplotlib.lines.Line2D at 0x22bd7fdbf60>]"
      ]
     },
     "execution_count": 46,
     "metadata": {},
     "output_type": "execute_result"
    },
    {
     "data": {
      "image/png": "[encoded data removed]",
      "text/plain": [
       "<Figure size 432x288 with 1 Axes>"
      ]
     },
     "metadata": {
      "needs_background": "light"
     },
     "output_type": "display_data"
    }
   ],
   "source": [
    "det = []\n",
    "for i in range(len(t)):\n",
    "    det.append(Deltafunc(t[i]))\n",
    "plt.plot(t,det,markersize =1,linestyle = ':',color ='blue')\n",
    "plt.plot(data_d[0],data_d[1],markersize =1,linestyle = ':',color = 'red')"
   ]
  },
  {
   "cell_type": "code",
   "execution_count": 42,
   "metadata": {
    "ExecuteTime": {
     "end_time": "2023-01-04T20:30:07.896848Z",
     "start_time": "2023-01-04T20:30:07.754688Z"
    }
   },
   "outputs": [
    {
     "data": {
      "text/plain": [
       "[<matplotlib.lines.Line2D at 0x22bd7edaa90>]"
      ]
     },
     "execution_count": 42,
     "metadata": {},
     "output_type": "execute_result"
    },
    {
     "data": {
      "image/png": "[encoded data removed]",
      "text/plain": [
       "<Figure size 432x288 with 1 Axes>"
      ]
     },
     "metadata": {
      "needs_background": "light"
     },
     "output_type": "display_data"
    }
   ],
   "source": [
    "data_d = np.loadtxt('C:/Users/wangy/Rydberg simulation/rydberg_data/1_4_23/Overlap2023_01_04_01_39_11_L20_1',delimiter=',')\n",
    "plt.plot(data_d[0],data_d[1],markersize =1,linestyle = ':')"
   ]
  },
  {
   "cell_type": "code",
   "execution_count": null,
   "metadata": {},
   "outputs": [],
   "source": []
  }
 ],
 "metadata": {
  "kernelspec": {
   "display_name": "Python 3",
   "language": "python",
   "name": "python3"
  },
  "language_info": {
   "codemirror_mode": {
    "name": "ipython",
    "version": 3
   },
   "file_extension": ".py",
   "mimetype": "text/x-python",
   "name": "python",
   "nbconvert_exporter": "python",
   "pygments_lexer": "ipython3",
   "version": "3.7.3"
  }
 },
 "nbformat": 4,
 "nbformat_minor": 2
}
