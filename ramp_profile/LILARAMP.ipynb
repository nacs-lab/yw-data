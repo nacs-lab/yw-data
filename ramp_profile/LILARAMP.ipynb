{
 "cells": [
  {
   "cell_type": "code",
   "execution_count": 1,
   "metadata": {
    "ExecuteTime": {
     "end_time": "2022-11-16T21:34:28.476527Z",
     "start_time": "2022-11-16T21:34:28.457206Z"
    }
   },
   "outputs": [],
   "source": [
    "def LILAramp(t,E0,Ec,Di,Dc,tf):\n",
    "\n",
    "    return (E0*Dc*t+Ec*Di*(tf-t))/(E0*t+Ec*(tf-t))"
   ]
  },
  {
   "cell_type": "code",
   "execution_count": 2,
   "metadata": {
    "ExecuteTime": {
     "end_time": "2022-11-16T21:34:49.209150Z",
     "start_time": "2022-11-16T21:34:48.034916Z"
    }
   },
   "outputs": [],
   "source": [
    "import numpy as np\n",
    "import matplotlib.pyplot as plt"
   ]
  },
  {
   "cell_type": "code",
   "execution_count": 3,
   "metadata": {
    "ExecuteTime": {
     "end_time": "2022-11-16T21:34:50.569323Z",
     "start_time": "2022-11-16T21:34:50.266124Z"
    }
   },
   "outputs": [
    {
     "data": {
      "text/plain": [
       "[<matplotlib.lines.Line2D at 0x1ec60f20908>]"
      ]
     },
     "execution_count": 3,
     "metadata": {},
     "output_type": "execute_result"
    },
    {
     "data": {
      "image/png": "[encoded data removed]",
      "text/plain": [
       "<Figure size 432x288 with 1 Axes>"
      ]
     },
     "metadata": {
      "needs_background": "light"
     },
     "output_type": "display_data"
    }
   ],
   "source": [
    "t = np.linspace(0,9,10);\n",
    "plt.plot(t,LILAramp(t,10,0.3,-10,1.1,20))"
   ]
  },
  {
   "cell_type": "code",
   "execution_count": 29,
   "metadata": {
    "ExecuteTime": {
     "end_time": "2022-11-16T22:46:44.555199Z",
     "start_time": "2022-11-16T22:46:44.536196Z"
    }
   },
   "outputs": [],
   "source": [
    "def DiLILA(t, t_len, dinit,gapinit, gapcrit, gapfin, dcrit, dfin, tinflect):\n",
    "    numstep1 = gapinit* dcrit* t + gapcrit* dinit* (tinflect - t)\n",
    "    denomstep1 = gapinit* t + gapcrit* (tinflect - t)\n",
    "    numstep2 = gapfin* dcrit* (t_len-t) + gapcrit* dfin* (t-tinflect);\n",
    "    denomstep2 = gapfin* (t_len-t) + gapcrit* (t-tinflect)\n",
    "    if t>t_len:\n",
    "        out = dfin\n",
    "    elif t>tinflect:\n",
    "        out = numstep2/ denomstep2\n",
    "    else:\n",
    "        out = numstep1/ denomstep1\n",
    "    return out"
   ]
  },
  {
   "cell_type": "code",
   "execution_count": 30,
   "metadata": {
    "ExecuteTime": {
     "end_time": "2022-11-16T22:46:45.423288Z",
     "start_time": "2022-11-16T22:46:45.288167Z"
    }
   },
   "outputs": [
    {
     "data": {
      "text/plain": [
       "[<matplotlib.lines.Line2D at 0x1ec61151550>]"
      ]
     },
     "execution_count": 30,
     "metadata": {},
     "output_type": "execute_result"
    },
    {
     "data": {
      "image/png": "[encoded data removed]",
      "text/plain": [
       "<Figure size 432x288 with 1 Axes>"
      ]
     },
     "metadata": {
      "needs_background": "light"
     },
     "output_type": "display_data"
    }
   ],
   "source": [
    "t = np.linspace(0,16,100);\n",
    "y = []\n",
    "for x in t:\n",
    "    y.append(DiLILA(x,16,-10,10,0.3,4.8,1.2,6,10.5))\n",
    "plt.plot(t,y)"
   ]
  },
  {
   "cell_type": "code",
   "execution_count": 43,
   "metadata": {
    "ExecuteTime": {
     "end_time": "2022-11-16T23:04:01.711844Z",
     "start_time": "2022-11-16T23:04:01.705842Z"
    }
   },
   "outputs": [],
   "source": [
    "def TestDiLILA(t, t_len, dinit,gapinit, gapcrit, gapfin, dcrit, dfin, tinflect):\n",
    "    numstep1 = gapinit* dcrit* t + gapcrit* dinit* (tinflect - t)\n",
    "    denomstep1 = gapinit* t + gapcrit* (tinflect - t)\n",
    "    numstep2 = gapfin* dcrit* (t_len-t) + gapcrit* dfin* (t-tinflect);\n",
    "    denomstep2 = gapfin* (t_len-t) + gapcrit* (t-tinflect)\n",
    "    out=numstep1/denomstep1\n",
    "#     print(out[t>t_len].shape)\n",
    "#     print(out[t<t_len and t>tinflect].shape)\n",
    "#     print(numstep2[t<t_len and t>tinflect].shape)\n",
    "    out[t>t_len]=dfin    \n",
    "    idx=np.logical_and(t<t_len ,t>tinflect)    \n",
    "    out[idx]=numstep2[idx]/denomstep2[idx]\n",
    "    #out[t>t_len]=dfin\n",
    "    #out[t<t_len and t>tinflect]=numstep2[t<t_len and t>tinflect]/denomstep2[t<t_len and t>tinflect]\n",
    "    return out"
   ]
  },
  {
   "cell_type": "code",
   "execution_count": 44,
   "metadata": {
    "ExecuteTime": {
     "end_time": "2022-11-16T23:04:03.563103Z",
     "start_time": "2022-11-16T23:04:03.547074Z"
    }
   },
   "outputs": [
    {
     "data": {
      "text/plain": [
       "array([-1.00000000e+01, -6.16315170e+00, -4.24025713e+00, -3.08508586e+00,\n",
       "       -2.31437302e+00, -1.76357035e+00, -1.35030771e+00, -1.02878598e+00,\n",
       "       -7.71508578e-01, -5.60969186e-01, -3.85492395e-01, -2.36992645e-01,\n",
       "       -1.09692998e-01,  6.43928824e-04,  9.71967883e-02,  1.82396727e-01,\n",
       "        2.58134917e-01,  3.25904584e-01,  3.86900449e-01,  4.42089767e-01,\n",
       "        4.92264005e-01,  5.38077036e-01,  5.80073801e-01,  6.18712079e-01,\n",
       "        6.54379250e-01,  6.87405322e-01,  7.18073176e-01,  7.46626687e-01,\n",
       "        7.73277223e-01,  7.98208887e-01,  8.21582777e-01,  8.43540469e-01,\n",
       "        8.64206887e-01,  8.83692681e-01,  9.02096213e-01,  9.19505210e-01,\n",
       "        9.35998169e-01,  9.51645538e-01,  9.66510722e-01,  9.80650939e-01,\n",
       "        9.94117963e-01,  1.00695875e+00,  1.01921599e+00,  1.03092857e+00,\n",
       "        1.04213202e+00,  1.05285882e+00,  1.06313875e+00,  1.07299918e+00,\n",
       "        1.08246526e+00,  1.09156019e+00,  1.10030538e+00,  1.10872062e+00,\n",
       "        1.11682424e+00,  1.12463323e+00,  1.13216338e+00,  1.13942935e+00,\n",
       "        1.14644482e+00,  1.15322250e+00,  1.15977430e+00,  1.16611133e+00,\n",
       "        1.17224396e+00,  1.17818193e+00,  1.18393437e+00,  1.18950983e+00,\n",
       "        1.19491637e+00,  1.20027572e+00,  1.20935673e+00,  1.21896772e+00,\n",
       "        1.22915649e+00,  1.23997676e+00,  1.25148911e+00,  1.26376213e+00,\n",
       "        1.27687380e+00,  1.29091311e+00,  1.30598212e+00,  1.32219843e+00,\n",
       "        1.33969824e+00,  1.35864023e+00,  1.37921031e+00,  1.40162784e+00,\n",
       "        1.42615339e+00,  1.45309898e+00,  1.48284139e+00,  1.51583989e+00,\n",
       "        1.55266015e+00,  1.59400692e+00,  1.64076955e+00,  1.69408673e+00,\n",
       "        1.75544041e+00,  1.82679572e+00,  1.91081531e+00,  2.01119903e+00,\n",
       "        2.13324343e+00,  2.28480726e+00,  2.47807395e+00,  2.73300100e+00,\n",
       "        3.08469751e+00,  3.60117130e+00,  4.43365201e+00,  1.31670350e+00])"
      ]
     },
     "execution_count": 44,
     "metadata": {},
     "output_type": "execute_result"
    }
   ],
   "source": [
    "TestDiLILA(t,16,-10,10,0.3,4.8,1.2,6,10.5)"
   ]
  },
  {
   "cell_type": "code",
   "execution_count": null,
   "metadata": {},
   "outputs": [],
   "source": []
  }
 ],
 "metadata": {
  "kernelspec": {
   "display_name": "Python 3",
   "language": "python",
   "name": "python3"
  },
  "language_info": {
   "codemirror_mode": {
    "name": "ipython",
    "version": 3
   },
   "file_extension": ".py",
   "mimetype": "text/x-python",
   "name": "python",
   "nbconvert_exporter": "python",
   "pygments_lexer": "ipython3",
   "version": "3.7.3"
  }
 },
 "nbformat": 4,
 "nbformat_minor": 2
}
