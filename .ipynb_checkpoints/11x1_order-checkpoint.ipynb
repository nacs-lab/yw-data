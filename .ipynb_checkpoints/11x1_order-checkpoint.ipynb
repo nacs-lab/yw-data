{
 "cells": [
  {
   "cell_type": "code",
   "execution_count": null,
   "metadata": {},
   "outputs": [],
   "source": [
    "# comparison between the numerics result and the experimental data\n",
    "import numpy as np\n",
    "import matplotlib.pyplot as plt\n",
    "import matplotlib\n",
    "from itertools import product\n",
    "from scipy.optimize import curve_fit\n",
    "import matplotlib.colors as colors"
   ]
  },
  {
   "cell_type": "code",
   "execution_count": null,
   "metadata": {},
   "outputs": [],
   "source": [
    "#11*1\n",
    "#data_exp = np.loadtxt('./rydberg_data/9_6_1dexpramp$/11_1_-5_5_new.csv',delimiter=',')\n",
    "data = {}\n",
    "for params in [(11,1,0.0,-4,6,0.686,4,0.051,0,0.25)]:\n",
    "    data[params] = {}\n",
    "    data[params]['z'] = np.loadtxt(\"./rydberg_data/9_6_1dexpramp/z_L%d_%d_den%.3f_delta%.1f_%.1f_omega%.3f_ramptime%.3f_dt%.3f_No%dtau1%3f.csv\"%params,delimiter=',')\n",
    "params = (11,1,0.0,-4,6,0.686,4,0.051,0,0.25)\n",
    "dt = params[7]\n",
    "temp = data[params]['z']\n",
    "fig,ax = plt.subplots(ncols=11,nrows=1,figsize=(30,15))\n",
    "plt.subplots_adjust(wspace=0.5,hspace=0.5)\n",
    "for i in range(11):\n",
    "    #print(temp[:,i])\n",
    "    #ax[i].errorbar(data_exp[0,:],data_exp[i+1,:],yerr=data_exp[i+11+1,:],ls='--',marker='.',label='experiment')\n",
    "    ax[i].plot(np.arange(len(temp[:,i]))*dt,1-(temp[:,i]+1)/2,ls='-',label='numerics')\n",
    "    #plt.legend(handlelength=0.5,ncol=3)\n",
    "    #plt.text(20,0.75,'size=3*5',fontsize=25)\n",
    "    ax[i].set_ylim([0,1])\n",
    "  #  ax[i].set_xticks([0,1,2])\n",
    "    ax[i].set_yticks([0,0.2,0.4,0.6,0.8,1])\n",
    "\n",
    "    #ax[i/3,i%3].set_xlim([0,1])\n",
    "    ax[i].grid()\n",
    "\n",
    "    ax[i].set_xlabel('Time(us)')\n",
    "    ax[i].set_ylabel('G survival')\n",
    "ax[0].legend(handlelength=0.5)\n",
    "\n",
    "plt.show()\n"
   ]
  },
  {
   "cell_type": "code",
   "execution_count": null,
   "metadata": {},
   "outputs": [],
   "source": [
    "#11*1\n",
    "data_exp = np.loadtxt('./rydberg_data/9_8_1d_ramptime_sweep/11_1_sweeptime.csv',delimiter=',')\n",
    "data = {}\n",
    "\n",
    "#sweeptime_z_L11_1_den0.000_delta-4.0_5.0_omega0.722_dt0.051_No0\n",
    "# for params in [(11,1,0.0,-4,5,0.722,4,0.051,0)]:\n",
    "#     data[params] = {}\n",
    "#     data[params]['z'] = np.loadtxt(\"./rydberg_data/9_8_1d_ramptime_sweep/sweeptime_z_L%d_%d_den%.3f_delta%.1f_%.1f_omega%.3f_dt%.3f_No%d.csv\"%params,delimiter=',')\n",
    "params = (11,1,0.0,-4,5,0.722,4,0.051,0)\n",
    "dt = params[7]\n",
    "#temp = data[params]['z']\n",
    "temp = np.loadtxt(\"./rydberg_data/9_8_1d_ramptime_sweep/sweeptime_z_L11_1_den0.000_delta-4.0_5.0_omega0.722_dt0.051_No0.csv\",delimiter=',')\n",
    "fig,ax = plt.subplots(ncols=11,nrows=1,figsize=(20,3))\n",
    "plt.subplots_adjust(wspace=0.5,hspace=0.5)\n",
    "for i in range(11):\n",
    "    #print(temp[:,i])\n",
    "    ax[i].errorbar(data_exp[0,:],data_exp[i+1,:],yerr=data_exp[i+11+1,:],ls='--',marker='.',label='experiment')\n",
    "    ax[i].plot(data_exp[0,:],1-(temp[:,i]+1)/2,marker='o',label='numerics')\n",
    "    #plt.legend(handlelength=0.5,ncol=3)\n",
    "    #plt.text(20,0.75,'size=3*5',fontsize=25)\n",
    "    ax[i].set_ylim([0,1])\n",
    "    ax[i].set_xticks([0,2,4,6])\n",
    "    ax[i].set_yticks([0,0.2,0.4,0.6,0.8,1])\n",
    "\n",
    "    #ax[i/3,i%3].set_xlim([0,1])\n",
    "    ax[i].grid()\n",
    "\n",
    "    ax[i].set_xlabel('Time(us)')\n",
    "    #ax[i].set_ylabel('G survival')\n",
    "ax[0].legend(handlelength=0.5)\n",
    "\n",
    "plt.show()"
   ]
  },
  {
   "cell_type": "code",
   "execution_count": null,
   "metadata": {},
   "outputs": [],
   "source": [
    "#temp[site,time]\n",
    "Lt = len(data_exp[0,:])\n",
    "site = 11\n",
    "sigma_sim = np.zeros(Lt)\n",
    "sigma_exp = np.zeros(Lt)\n",
    "data_exp_survival = data_exp[1:11,:]\n",
    "x = data_exp[0,:]\n",
    "for j in range(Lt):\n",
    "    for i in range(site-1-1):\n",
    "        sigma_sim[j] = sigma_sim[j]+((1-(temp[j,i]+1)/2)-(1-(temp[j,i+1]+1)/2))*(-1)**(i+1)\n",
    "        sigma_exp[j] = sigma_exp[j]+(data_exp_survival[i,j]-data_exp_survival[i+1,j])*(-1)**(i+1)\n",
    "print(sigma_sim)\n",
    "print(sigma_exp)\n",
    "plt.plot(x, sigma_sim, color='r',marker='o',linestyle='dashed',label='Simulation')\n",
    "plt.plot(x, sigma_exp, color='b',marker='o',linestyle='dashed',label='Experiment')\n",
    "plt.legend()\n",
    "plt.grid()"
   ]
  }
 ],
 "metadata": {
  "kernelspec": {
   "display_name": "Python 3",
   "language": "python",
   "name": "python3"
  },
  "language_info": {
   "codemirror_mode": {
    "name": "ipython",
    "version": 3
   },
   "file_extension": ".py",
   "mimetype": "text/x-python",
   "name": "python",
   "nbconvert_exporter": "python",
   "pygments_lexer": "ipython3",
   "version": "3.7.3"
  }
 },
 "nbformat": 4,
 "nbformat_minor": 2
}
