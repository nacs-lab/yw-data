{
 "cells": [
  {
   "cell_type": "code",
   "execution_count": 10,
   "metadata": {
    "ExecuteTime": {
     "end_time": "2022-12-12T02:16:18.407911Z",
     "start_time": "2022-12-12T02:16:18.354375Z"
    }
   },
   "outputs": [],
   "source": [
    "import numpy as np\n",
    "import matplotlib.pyplot as plt\n",
    "data_15 = np.loadtxt('./rydberg_data/12_9/AFM_Energy_L1_15_den0.000_delta0.0_6.1_omega1.550_ramptime4.000_dt0.200_No0.csv', delimiter = ',')\n",
    "data_19 = np.loadtxt('./rydberg_data/12_9/AFM_Energy_L1_19_den0.000_delta0.5_6.2_omega1.550_ramptime10.000_dt0.100_No0.csv', delimiter = ',')\n",
    "\n",
    "\n"
   ]
  },
  {
   "cell_type": "code",
   "execution_count": 11,
   "metadata": {
    "ExecuteTime": {
     "end_time": "2022-12-12T02:16:57.360092Z",
     "start_time": "2022-12-12T02:16:56.986265Z"
    }
   },
   "outputs": [
    {
     "data": {
      "image/png": "[encoded data removed]",
      "text/plain": [
       "<Figure size 1080x360 with 3 Axes>"
      ]
     },
     "metadata": {
      "needs_background": "light"
     },
     "output_type": "display_data"
    }
   ],
   "source": [
    "fig, ax = plt.subplots(1, 3, figsize=(15,5))\n",
    "fig.suptitle('19 Atoms')\n",
    "plt.subplots_adjust(wspace=0.5,hspace=0.5)\n",
    "ax[2].plot(data_19[1],data_19[5],marker='o')\n",
    "ax[2].set_xlabel('Detuning(MHz)')\n",
    "ax[2].set_ylabel('Overlap <AFM|ground state>')\n",
    "ax[1].plot(data_19[1], (data_19[3]-data_19[2])/2/np.pi,marker='o',label='line')\n",
    "\n",
    "ax[1].set_xlabel('Detuning(MHz)')\n",
    "ax[1].set_ylabel('Energy gap(MHz)')\n",
    "ax[1].legend()\n",
    "ax[0].plot(data_19[1], data_19[4],marker='o',label='line')\n",
    "ax[0].set_xlabel('Detuning(MHz)')\n",
    "ax[0].set_ylabel('Overlap <g^n|ground state>')\n",
    "ax[0].legend()\n",
    "ax[0].grid()"
   ]
  },
  {
   "cell_type": "code",
   "execution_count": 12,
   "metadata": {
    "ExecuteTime": {
     "end_time": "2022-12-12T02:17:17.983968Z",
     "start_time": "2022-12-12T02:17:17.968970Z"
    },
    "scrolled": true
   },
   "outputs": [
    {
     "name": "stdout",
     "output_type": "stream",
     "text": [
      "[[0.5285     0.68964098]\n",
      " [0.5855     0.65791189]\n",
      " [0.6425     0.62678398]\n",
      " [0.6995     0.59631615]\n",
      " [0.7565     0.56658443]\n",
      " [0.8135     0.53768782]\n",
      " [0.8705     0.50975581]\n",
      " [0.9275     0.48295814]\n",
      " [0.9845     0.45751663]\n",
      " [1.0415     0.43371843]\n",
      " [1.0985     0.41192896]\n",
      " [1.1555     0.39260059]\n",
      " [1.2125     0.37627091]\n",
      " [1.2695     0.36354217]\n",
      " [1.3265     0.3550343 ]\n",
      " [1.3835     0.35131069]\n",
      " [1.4405     0.35278944]\n",
      " [1.4975     0.35966738]\n",
      " [1.5545     0.37188618]\n",
      " [1.6115     0.38915367]\n",
      " [1.6685     0.41100792]\n",
      " [1.7255     0.43689648]\n",
      " [1.7825     0.46624599]\n",
      " [1.8395     0.49851003]\n",
      " [1.8965     0.53319526]\n",
      " [1.9535     0.56987099]\n",
      " [2.0105     0.6081689 ]\n",
      " [2.0675     0.64777754]\n",
      " [2.1245     0.68843501]\n",
      " [2.1815     0.72992128]\n",
      " [2.2385     0.77205126]\n",
      " [2.2955     0.81466871]\n",
      " [2.3525     0.85764112]\n",
      " [2.4095     0.90085546]\n",
      " [2.4665     0.94421475]\n",
      " [2.5235     0.98763518]\n",
      " [2.5805     1.0310438 ]\n",
      " [2.6375     1.07437668]\n",
      " [2.6945     1.11757729]\n",
      " [2.7515     1.16059528]\n",
      " [2.8085     1.20338543]\n",
      " [2.8655     1.24590677]\n",
      " [2.9225     1.28812186]\n",
      " [2.9795     1.32999621]\n",
      " [3.0365     1.37149779]\n",
      " [3.0935     1.41259657]\n",
      " [3.1505     1.45326421]\n",
      " [3.2075     1.49347373]\n",
      " [3.2645     1.53319928]\n",
      " [3.3215     1.57241592]\n",
      " [3.3785     1.61109945]\n",
      " [3.4355     1.64922625]\n",
      " [3.4925     1.68677314]\n",
      " [3.5495     1.7237173 ]\n",
      " [3.6065     1.76003615]\n",
      " [3.6635     1.7957073 ]\n",
      " [3.7205     1.83070849]\n",
      " [3.7775     1.86501751]\n",
      " [3.8345     1.89861222]\n",
      " [3.8915     1.93147045]\n",
      " [3.9485     1.96357008]\n",
      " [4.0055     1.99488892]\n",
      " [4.0625     2.02540482]\n",
      " [4.1195     2.0550956 ]\n",
      " [4.1765     2.08393911]\n",
      " [4.2335     2.11191323]\n",
      " [4.2905     2.13899591]\n",
      " [4.3475     2.16516521]\n",
      " [4.4045     2.19039934]\n",
      " [4.4615     2.2146767 ]\n",
      " [4.5185     2.23797596]\n",
      " [4.5755     2.2602761 ]\n",
      " [4.6325     2.28155645]\n",
      " [4.6895     2.30179682]\n",
      " [4.7465     2.32097751]\n",
      " [4.8035     2.33907944]\n",
      " [4.8605     2.35608416]\n",
      " [4.9175     2.37197401]\n",
      " [4.9745     2.38673211]\n",
      " [5.0315     2.40034252]\n",
      " [5.0885     2.41279027]\n",
      " [5.1455     2.42406144]\n",
      " [5.2025     2.43414324]\n",
      " [5.2595     2.4430241 ]\n",
      " [5.3165     2.45069369]\n",
      " [5.3735     2.45714302]\n",
      " [5.4305     2.46236445]\n",
      " [5.4875     2.46635178]\n",
      " [5.5445     2.46910027]\n",
      " [5.6015     2.47060666]\n",
      " [5.6585     2.47086918]\n",
      " [5.7155     2.46988759]\n",
      " [5.7725     2.46766318]\n",
      " [5.8295     2.46419874]\n",
      " [5.8865     2.45949855]\n",
      " [5.9435     2.45356837]\n",
      " [6.0005     2.44641539]\n",
      " [6.0575     2.43804819]\n",
      " [6.1145     2.4284767 ]\n",
      " [6.1715     2.41771214]]\n"
     ]
    }
   ],
   "source": [
    "gapdata1 = np.array([data_19[1], (data_19[3]-data_19[2])/2/np.pi]).transpose()\n",
    "print(gapdata1)"
   ]
  },
  {
   "cell_type": "code",
   "execution_count": 7,
   "metadata": {
    "ExecuteTime": {
     "end_time": "2022-12-10T00:30:38.671538Z",
     "start_time": "2022-12-10T00:30:38.662546Z"
    }
   },
   "outputs": [
    {
     "name": "stdout",
     "output_type": "stream",
     "text": [
      "[[0.51875    0.71031846]\n",
      " [0.55625    0.69025487]\n",
      " [0.59375    0.6705219 ]\n",
      " [0.63125    0.65114401]\n",
      " [0.66875    0.63214965]\n",
      " [0.70625    0.61357195]\n",
      " [0.74375    0.59544946]\n",
      " [0.78125    0.57782692]\n",
      " [0.81875    0.56075614]\n",
      " [0.85625    0.54429681]\n",
      " [0.89375    0.52851735]\n",
      " [0.93125    0.51349558]\n",
      " [0.96875    0.49931919]\n",
      " [1.00625    0.48608584]\n",
      " [1.04375    0.47390275]\n",
      " [1.08125    0.46288557]\n",
      " [1.11875    0.45315642]\n",
      " [1.15625    0.44484093]\n",
      " [1.19375    0.43806427]\n",
      " [1.23125    0.43294618]\n",
      " [1.26875    0.42959547]\n",
      " [1.30625    0.42810426]\n",
      " [1.34375    0.42854269]\n",
      " [1.38125    0.43095472]\n",
      " [1.41875    0.43535556]\n",
      " [1.45625    0.44173111]\n",
      " [1.49375    0.45003944]\n",
      " [1.53125    0.46021394]\n",
      " [1.56875    0.47216781]\n",
      " [1.60625    0.48579902]\n",
      " [1.64375    0.5009955 ]\n",
      " [1.68125    0.51763976]\n",
      " [1.71875    0.5356129 ]\n",
      " [1.75625    0.55479782]\n",
      " [1.79375    0.57508151]\n",
      " [1.83125    0.59635672]\n",
      " [1.86875    0.61852287]\n",
      " [1.90625    0.64148657]\n",
      " [1.94375    0.66516173]\n",
      " [1.98125    0.68946941]]\n"
     ]
    }
   ],
   "source": [
    "data_15_2 = np.loadtxt('./rydberg_data/12_9/AFM_Energy_L1_15_den0.000_delta0.5_2.0_omega1.550_ramptime4.000_dt0.100_No0.csv', delimiter = ',')\n",
    "gapdata2 = np.array([data_15_2[1], (data_15_2[3]-data_15_2[2])/2/np.pi]).transpose()\n",
    "print(gapdata2)"
   ]
  },
  {
   "cell_type": "code",
   "execution_count": null,
   "metadata": {},
   "outputs": [],
   "source": []
  }
 ],
 "metadata": {
  "kernelspec": {
   "display_name": "Python 3",
   "language": "python",
   "name": "python3"
  },
  "language_info": {
   "codemirror_mode": {
    "name": "ipython",
    "version": 3
   },
   "file_extension": ".py",
   "mimetype": "text/x-python",
   "name": "python",
   "nbconvert_exporter": "python",
   "pygments_lexer": "ipython3",
   "version": "3.7.3"
  }
 },
 "nbformat": 4,
 "nbformat_minor": 2
}
