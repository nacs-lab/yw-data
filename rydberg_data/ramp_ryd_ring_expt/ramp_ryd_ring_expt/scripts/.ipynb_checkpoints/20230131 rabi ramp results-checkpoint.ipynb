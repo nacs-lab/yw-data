{
 "cells": [
  {
   "cell_type": "code",
   "execution_count": 1,
   "id": "d70358d5",
   "metadata": {},
   "outputs": [],
   "source": [
    "import numpy as np\n",
    "import matplotlib.pyplot as plt\n",
    "from scipy.optimize import curve_fit\n",
    "\n",
    "def linear_func(x, m, b):\n",
    "    return m*x + b"
   ]
  },
  {
   "cell_type": "code",
   "execution_count": 2,
   "id": "f37d8557",
   "metadata": {},
   "outputs": [],
   "source": [
    "# convert to sigma0*sigmaj, pbcs\n",
    "\n",
    "\n",
    "def get_sigma_1_point(i, Szs):\n",
    "    n_exp = 1/2 - np.mean(Szs)\n",
    "    \n",
    "    return (-1)**i*(1/2 - Szs[i] - n_exp)\n",
    "\n",
    "# with i == 0\n",
    "def get_sigma_2_point(j, Szs, SzSzs):\n",
    "    n_exp = 1/2 - np.mean(Szs)\n",
    "    \n",
    "    ninj = 1/4 - Szs[0]/2 - Szs[j]/2 + SzSzs[j]\n",
    "    \n",
    "    ni = 1/2 - Szs[0]\n",
    "    nj = 1/2 - Szs[j]\n",
    "    \n",
    "    return (-1)**(0+j)*(ninj - ni*n_exp - nj*n_exp + n_exp**2)\n",
    "\n",
    "# wrt i == 0\n",
    "def get_ryd_2_point(j, Szs, SzSzs):\n",
    "    \n",
    "    ninj = 1/4 - Szs[0]/2 - Szs[j]/2 + SzSzs[j]\n",
    "    \n",
    "    ni = 1/2 - Szs[0]\n",
    "    nj = 1/2 - Szs[j]\n",
    "    \n",
    "    return (-1)**(0+j)*(ninj)\n",
    "\n",
    "# wrt i == 0\n",
    "def get_ryd_conn_2_point(j, Szs, SzSzs):\n",
    "    \n",
    "    ninj = 1/4 - Szs[0]/2 - Szs[j]/2 + SzSzs[j]\n",
    "    \n",
    "    ni = 1/2 - Szs[0]\n",
    "    nj = 1/2 - Szs[j]\n",
    "    \n",
    "    return (-1)**(0+j)*(ninj - ni*nj)"
   ]
  },
  {
   "cell_type": "code",
   "execution_count": 5,
   "id": "28e45664",
   "metadata": {},
   "outputs": [],
   "source": [
    "# initialize the rydberg model \n",
    "real_omega = 1.55 # MHz\n",
    "L = 24\n",
    "Omega = 1\n",
    "U = 9/real_omega\n",
    "Rb = U**(1/6) #1.32\n",
    "\n",
    "chi_max = 64\n",
    "cutoff = 8.01\n",
    "delta_t = 0.1\n",
    "\n",
    "# rabi ramp parameters\n",
    "omega_ramp_time = 2*real_omega # (1/omega)\n",
    "omega_ramp_end_idx = int(2*real_omega/delta_t)\n",
    "\n",
    "# dilila parameters\n",
    "gapinit = 3.384\n",
    "gapcrit = 0.24 #0.9276 \n",
    "gapfin = 1.95\n",
    "\n",
    "dini = -5/real_omega\n",
    "#dcrit [0.5, 0.9, 1.1, 1.5]\n",
    "\n",
    "num_deltas = 5\n",
    "dcrits = [0.4, 1.34, 1.54, 1.74, 2.4] #np.linspace(0.5, 1.5, 20)\n",
    "dcrits = np.array(dcrits)/real_omega\n",
    "\n",
    "dfin = 4.45/real_omega\n",
    "\n",
    "pulselen = 6.5*real_omega\n",
    "\n",
    "total_ramp_time = pulselen\n",
    "total_evolution_time = total_ramp_time\n",
    "\n",
    "num_ts = int(total_evolution_time/delta_t) + omega_ramp_end_idx\n",
    "\n",
    "evals = np.zeros([num_deltas, num_ts], dtype=complex) # energy\n",
    "svals = np.zeros([num_deltas, num_ts, L-1], dtype=complex) # entropy\n",
    "\n",
    "sigma_1_points = np.zeros([num_deltas, num_ts], dtype=complex)\n",
    "#sigma_2_points = np.zeros([num_deltas, num_ts, L//2-1], dtype=complex)\n",
    "sigma_2_points = np.zeros([num_deltas, num_ts, L-1], dtype=complex)\n",
    "\n",
    "sz_1_points = np.zeros([num_deltas, num_ts, L], dtype=complex)\n",
    "sz_2_points = np.zeros([num_deltas, num_ts, L], dtype=complex)\n",
    "\n",
    "for idx, dcrit in enumerate(dcrits):\n",
    "    save_filename = '../results/ramp_rydberg_ring_L_%d_Omega_%.2f_Rb_%.2f_dini_%.3f_dcrit_%.3f_dfin_%.3f_T_%.3f_chi_%04d_cutoff%.2f.npz'%(L, Omega, Rb, dini, dcrit, dfin, pulselen, chi_max, cutoff)\n",
    "        \n",
    "    test = np.load(save_filename)\n",
    "    \n",
    "    evals[idx, :] = test['evals'] \n",
    "    svals[idx, :] = test['svals']\n",
    "\n",
    "    sigma_1_points[idx, :] = test['sigma_1_points']\n",
    "\n",
    "    sz_1_points[idx, :] = test['sz_1_points']\n",
    "    sz_2_points[idx, :] = test['sz_2_points']\n",
    "    \n",
    "    for j in range(L-1):\n",
    "        for t_idx in range(num_ts):\n",
    "            sigma_2_points[idx, t_idx, j] = get_sigma_2_point(j, sz_1_points[idx, t_idx, :], sz_2_points[idx, t_idx, :])"
   ]
  },
  {
   "cell_type": "code",
   "execution_count": 6,
   "id": "aab1a085",
   "metadata": {},
   "outputs": [
    {
     "name": "stderr",
     "output_type": "stream",
     "text": [
      "/Users/juliayaxinwei/opt/anaconda3/envs/dyn/lib/python3.9/site-packages/matplotlib/collections.py:200: ComplexWarning: Casting complex values to real discards the imaginary part\n",
      "  offsets = np.asanyarray(offsets, float)\n",
      "/Users/juliayaxinwei/opt/anaconda3/envs/dyn/lib/python3.9/site-packages/numpy/lib/function_base.py:601: ComplexWarning: Casting complex values to real discards the imaginary part\n",
      "  a = asarray(a, dtype=dtype, order=order)\n"
     ]
    },
    {
     "data": {
      "image/png": "[encoded data removed]",
      "text/plain": [
       "<Figure size 432x288 with 1 Axes>"
      ]
     },
     "metadata": {
      "needs_background": "light"
     },
     "output_type": "display_data"
    }
   ],
   "source": [
    "idx = 3\n",
    "\n",
    "js = np.array(range(2, 10))\n",
    "djs = L/np.pi*np.sin(np.pi/L*js)\n",
    "\n",
    "sigma_corr = sigma_2_points[idx, -1, 2:10]\n",
    "plt.scatter(djs, sigma_corr)\n",
    "\n",
    "\n",
    "res_pbc = curve_fit(linear_func, np.log(djs[:]), np.log(sigma_corr[:]))\n",
    "plt.loglog(djs, np.exp(linear_func(np.log(djs), res_pbc[0][0], res_pbc[0][1])))\n",
    "plt.title('$<\\hat \\sigma_0 \\hat \\sigma_{j}>$, L = %d, Rb = %.2f, $\\Omega$ = 1.5 MHz, $\\delta$ = %.3f, slope = %.2f'%(L, Rb, dcrits[idx], res_pbc[0][0]))\n",
    "\n",
    "\n",
    "plt.xscale('log')\n",
    "plt.yscale('log')"
   ]
  },
  {
   "cell_type": "code",
   "execution_count": 7,
   "id": "df55d838",
   "metadata": {},
   "outputs": [
    {
     "name": "stdout",
     "output_type": "stream",
     "text": [
      "[0.58666582 0.98725006 1.1473754  1.0861757  0.29691386]\n"
     ]
    },
    {
     "name": "stderr",
     "output_type": "stream",
     "text": [
      "/Users/juliayaxinwei/opt/anaconda3/envs/dyn/lib/python3.9/site-packages/matplotlib/collections.py:200: ComplexWarning: Casting complex values to real discards the imaginary part\n",
      "  offsets = np.asanyarray(offsets, float)\n"
     ]
    },
    {
     "data": {
      "text/plain": [
       "Text(0.5, 0, '$\\\\delta$ (MHz)')"
      ]
     },
     "execution_count": 7,
     "metadata": {},
     "output_type": "execute_result"
    },
    {
     "data": {
      "image/png": "[encoded data removed]",
      "text/plain": [
       "<Figure size 432x288 with 1 Axes>"
      ]
     },
     "metadata": {
      "needs_background": "light"
     },
     "output_type": "display_data"
    }
   ],
   "source": [
    "    \n",
    "plt.scatter(dcrits*real_omega, np.sum(sigma_2_points[:, -1, 1:], axis=1))\n",
    "print(np.real(np.sum(sigma_2_points[:, -1, 1:], axis=1)))\n",
    "plt.title('L = %d, ring [dilila] , $\\Omega$ = %.2f MHz, Rb = %.2f, $\\delta_0$ = %.2f MHz'%(L, real_omega, Rb, \n",
    "                                                                                                                 dini*real_omega,\n",
    "                                                                                                                ))                                                                                                                \n",
    "plt.ylabel('$\\sum_{i} \\sigma_0\\sigma_i$')\n",
    "plt.xlabel('$\\delta$ (MHz)')"
   ]
  },
  {
   "cell_type": "code",
   "execution_count": 11,
   "id": "9c20ea0d",
   "metadata": {},
   "outputs": [
    {
     "data": {
      "text/plain": [
       "<matplotlib.legend.Legend at 0x7fa0a8a5f2b0>"
      ]
     },
     "execution_count": 11,
     "metadata": {},
     "output_type": "execute_result"
    },
    {
     "data": {
      "image/png": "[encoded data removed]",
      "text/plain": [
       "<Figure size 432x288 with 1 Axes>"
      ]
     },
     "metadata": {
      "needs_background": "light"
     },
     "output_type": "display_data"
    }
   ],
   "source": [
    "    \n",
    "plt.scatter(dcrits*real_omega, [0.58666582, 0.98725006, 1.1473754,  1.0861757,  0.29691386])\n",
    "plt.scatter(dcrits*real_omega, [0.56300143, 1.00375753, 1.19311649, 1.15493761, 0.33099176])\n",
    "\n",
    "plt.title('L = %d, ring [dilila] , $\\Omega$ = %.2f MHz, $\\delta_0$ = %.2f MHz'%(L, real_omega, dini*real_omega))\n",
    "                                                                                                                                                                                                                              \n",
    "plt.ylabel('$\\sum_{i} \\sigma_0\\sigma_i$')\n",
    "plt.xlabel('$\\delta$ (MHz)')\n",
    "plt.legend(['V_nn = 9 MHz', 'V_nn = 12 MHz'])\n",
    "\n",
    "\n"
   ]
  },
  {
   "cell_type": "code",
   "execution_count": null,
   "id": "6e7f9beb",
   "metadata": {},
   "outputs": [],
   "source": []
  },
  {
   "cell_type": "code",
   "execution_count": null,
   "id": "47f0b0b3",
   "metadata": {},
   "outputs": [],
   "source": []
  },
  {
   "cell_type": "code",
   "execution_count": null,
   "id": "689700a1",
   "metadata": {},
   "outputs": [],
   "source": []
  }
 ],
 "metadata": {
  "kernelspec": {
   "display_name": "Python 3 (ipykernel)",
   "language": "python",
   "name": "python3"
  },
  "language_info": {
   "codemirror_mode": {
    "name": "ipython",
    "version": 3
   },
   "file_extension": ".py",
   "mimetype": "text/x-python",
   "name": "python",
   "nbconvert_exporter": "python",
   "pygments_lexer": "ipython3",
   "version": "3.9.7"
  }
 },
 "nbformat": 4,
 "nbformat_minor": 5
}
