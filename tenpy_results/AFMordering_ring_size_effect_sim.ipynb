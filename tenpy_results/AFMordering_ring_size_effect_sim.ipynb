{
 "cells": [
  {
   "cell_type": "code",
   "execution_count": 1,
   "metadata": {
    "ExecuteTime": {
     "end_time": "2023-01-14T05:02:29.276579Z",
     "start_time": "2023-01-14T05:02:28.040852Z"
    }
   },
   "outputs": [],
   "source": [
    "import numpy as np\n",
    "import matplotlib.pyplot as plt\n",
    "from itertools import product\n",
    "import scipy\n",
    "from scipy.optimize import curve_fit\n",
    "import matplotlib.colors as colors\n",
    "from numpy import polyfit, poly1d"
   ]
  },
  {
   "cell_type": "code",
   "execution_count": 2,
   "metadata": {
    "ExecuteTime": {
     "end_time": "2023-01-14T05:03:04.311810Z",
     "start_time": "2023-01-14T05:03:04.203511Z"
    }
   },
   "outputs": [
    {
     "name": "stdout",
     "output_type": "stream",
     "text": [
      "i 0\n",
      "(174, 20, 20)\n",
      "i 1\n",
      "(174, 24, 24)\n",
      "i 2\n",
      "(174, 28, 28)\n",
      "i 3\n",
      "(174, 32, 32)\n"
     ]
    }
   ],
   "source": [
    "#Load data\n",
    "data_20 = np.load('C:/Users/wangy/Rydberg simulation/rydberg_data/1_12_23/2023_01_12_00_42_03L20.npy',allow_pickle=True).tolist()\n",
    "data_24 = np.load('C:/Users/wangy/Rydberg simulation/rydberg_data/1_12_23/2023_01_12_00_42_03L24.npy',allow_pickle=True).tolist()\n",
    "data_28 = np.load('C:/Users/wangy/Rydberg simulation/rydberg_data/1_12_23/2023_01_12_00_42_03L28.npy',allow_pickle=True).tolist()\n",
    "data_32 = np.load('C:/Users/wangy/Rydberg simulation/rydberg_data/1_12_23/2023_01_12_00_42_03L32.npy',allow_pickle=True).tolist()\n",
    "data = [data_20,data_24,data_28,data_32]\n",
    "N = [20,24,28,32]\n",
    "t = []\n",
    "detuning = [] \n",
    "rabi = [] \n",
    "E = [] \n",
    "overlap = []\n",
    "z_list = []\n",
    "zz_list = []\n",
    "zg_list = []\n",
    "zzg_list = []\n",
    "for i in range(len(N)):\n",
    "    t.append(np.array(data[i]['nT'])[:,1]) # scan time\n",
    "    detuning.append(np.array(data[i]['nT'])[:,3]) # detuning\n",
    "    rabi.append(np.array(data[i]['nT'])[:,2]) # Rabi\n",
    "    E.append(np.array(data[i]['E'])) # energy for the lowest three states\n",
    "    overlap.append(np.array(data[i]['overlap']))# overlap with fm, afm, ground state, 1st excited state, 2nd excited state\n",
    "    z_list.append(np.array(data[i]['z'])) # rydberg population  \n",
    "    zz_list.append(np.array(data[i]['zz']))# correlation of the rydbegrg population\n",
    "    zg_list.append(np.array(data[i]['zg']))# rydberg population for the ground state\n",
    "    zzg_list.append(np.array(data[i]['zzg']))# correlation of the rydberg population for the ground state\n",
    "    print('i',i)\n",
    "    print(zzg_list[i].shape)"
   ]
  },
  {
   "cell_type": "code",
   "execution_count": 3,
   "metadata": {
    "ExecuteTime": {
     "end_time": "2023-01-14T05:05:30.649361Z",
     "start_time": "2023-01-14T05:05:29.883010Z"
    }
   },
   "outputs": [],
   "source": [
    "sigma_1_list = []\n",
    "sigma_2_list = []\n",
    "x_list = []\n",
    "for i in range(len(N)):\n",
    "    sigma1 = [] # single body sigma field\n",
    "    sigma2 = [] # correlation of sigma field\n",
    "    # do something\n",
    "    sign = np.ones(N[i])\n",
    "    sign[0::2]=-1\n",
    "    x_temp = np.arange(N[i])\n",
    "    x_list.append(x_temp)\n",
    "    for t_index in range(len(data[i]['zz'])):\n",
    "        n_temp = np.array(data[i]['z'])[t_index] # rydberg population at time t\n",
    "        n_temp_mean = np.mean(n_temp)\n",
    "        nn_temp = np.array(data[i]['zz'])[t_index]\n",
    "        sigma_temp = (n_temp[:]-n_temp_mean)*sign\n",
    "        sigma1.append(sigma_temp)\n",
    "        for x in x_temp:\n",
    "            temp_g = (-1)**x *(nn_temp[0,x]-n_temp_mean*n_temp[0]-n_temp_mean*n_temp[x]+n_temp_mean**2)\n",
    "            sigma2.append(temp_g)\n",
    "    sigma2 = np.array(sigma2)\n",
    "    sigma2 = sigma2.reshape(len(data[i]['zg']),N[i])\n",
    "    sigma_1_list.append(sigma1)   \n",
    "    sigma_2_list.append(sigma2)\n"
   ]
  },
  {
   "cell_type": "code",
   "execution_count": 18,
   "metadata": {
    "ExecuteTime": {
     "end_time": "2023-01-14T05:11:33.864380Z",
     "start_time": "2023-01-14T05:11:33.538143Z"
    }
   },
   "outputs": [
    {
     "name": "stdout",
     "output_type": "stream",
     "text": [
      "20\n",
      "24\n",
      "28\n",
      "32\n"
     ]
    },
    {
     "data": {
      "image/png": "[encoded data removed]",
      "text/plain": [
       "<Figure size 432x288 with 1 Axes>"
      ]
     },
     "metadata": {
      "needs_background": "light"
     },
     "output_type": "display_data"
    }
   ],
   "source": [
    "sampled_y = []\n",
    "order_list = []\n",
    "det_list = []\n",
    "for i_n,i in enumerate(range(len(N))):\n",
    "#for i_n,i in enumerate([0,1,3]):\n",
    "    print(len(x_list[i]))\n",
    "    temp = sigma_2_list[i][20::5]\n",
    "    x = detuning[i][20::5]\n",
    "    det_list.append(x)\n",
    "    y = np.sum(temp,axis=1)\n",
    "    order_list.append(y)\n",
    "    plt.plot(x,y,marker = '+',markersize = 7, ls ='')\n",
    "    plt.plot(detuning[i][20:],np.sum(sigma_2_list[i][20:],axis=1),marker = 'o',markersize = 3,ls ='',alpha = 0.2)\n",
    "#plt.yscale('log')\n",
    "sampled_y = np.array(sampled_y)\n",
    "#plt.ylim([0.1,0.8])\n"
   ]
  },
  {
   "cell_type": "code",
   "execution_count": 20,
   "metadata": {
    "ExecuteTime": {
     "end_time": "2023-01-14T05:12:06.175327Z",
     "start_time": "2023-01-14T05:12:06.157327Z"
    }
   },
   "outputs": [],
   "source": [
    "def func_erf(x,x0,A,B):\n",
    "    return (scipy.special.erf((x-x0)/B)+1)*A\n",
    "def func_logistic(x,x0,A,B):\n",
    "    return A/(1+np.exp(-(x-x0)/B))"
   ]
  },
  {
   "cell_type": "code",
   "execution_count": 21,
   "metadata": {
    "ExecuteTime": {
     "end_time": "2023-01-14T05:12:38.401971Z",
     "start_time": "2023-01-14T05:12:38.039508Z"
    }
   },
   "outputs": [
    {
     "name": "stdout",
     "output_type": "stream",
     "text": [
      "[1.63312247 4.32637772 0.32331733]\n",
      "[1.62841848 2.14619669 0.7521779 ]\n",
      "[0.02041846 0.05038146 0.03683932]\n",
      "[1.63642092 4.97036713 0.26800993]\n",
      "[1.63452911 2.47176215 0.62723907]\n",
      "[0.01924711 0.06247399 0.03540459]\n",
      "[1.63490936 5.84688998 0.25256646]\n",
      "[1.63606871 2.91793094 0.59664907]\n",
      "[0.02541284 0.10091687 0.04694699]\n",
      "[1.63351108 6.06286251 0.23950473]\n",
      "[1.63053369 3.0100908  0.55809317]\n",
      "[0.01959771 0.08434207 0.03661852]\n"
     ]
    },
    {
     "data": {
      "image/png": "[encoded data removed]",
      "text/plain": [
       "<Figure size 432x288 with 1 Axes>"
      ]
     },
     "metadata": {
      "needs_background": "light"
     },
     "output_type": "display_data"
    }
   ],
   "source": [
    "for i in range(len(N)):\n",
    "    plt.plot(det_list[i],order_list[i],ls='',marker='.')\n",
    "    x_list = np.linspace(-5,6,100)\n",
    "    #plt.plot(x_list,func_logistic(x_list,1.45,13,0.3))\n",
    "    #plt.plot(x_list,(scipy.special.erf(x_list)+1)*7)\n",
    "    p,perr = curve_fit(func_logistic,det_list[i],order_list[i],p0=[1.45,13,0.3])\n",
    "    print(p)\n",
    "    plt.plot(x_list,func_logistic(x_list,*p))\n",
    "\n",
    "    p,perr = curve_fit(func_erf,det_list[i],order_list[i],p0=[1.45,13,0.3])\n",
    "    print(p)\n",
    "    print(np.diag(perr)**0.5)\n",
    "    plt.plot(x_list,func_erf(x_list,*p))"
   ]
  },
  {
   "cell_type": "code",
   "execution_count": 23,
   "metadata": {
    "ExecuteTime": {
     "end_time": "2023-01-14T05:24:17.969648Z",
     "start_time": "2023-01-14T05:24:16.881886Z"
    }
   },
   "outputs": [
    {
     "name": "stdout",
     "output_type": "stream",
     "text": [
      "20\n",
      "24\n",
      "28\n",
      "32\n"
     ]
    },
    {
     "data": {
      "image/png": "[encoded data removed]",
      "text/plain": [
       "<Figure size 432x288 with 1 Axes>"
      ]
     },
     "metadata": {
      "needs_background": "light"
     },
     "output_type": "display_data"
    }
   ],
   "source": [
    "# for ground state \n",
    "sigma_1_g_list = []\n",
    "sigma_2_g_list = []\n",
    "x_list = []\n",
    "for i in range(len(N)):\n",
    "    sigma1_g = [] # single body sigma field\n",
    "    sigma2_g = [] # correlation of sigma field\n",
    "    # do something\n",
    "    sign = np.ones(N[i])\n",
    "    sign[0::2]=-1\n",
    "    x_temp = np.arange(N[i])\n",
    "    x_list.append(x_temp)\n",
    "    for t_index in range(len(data[i]['zg'])):\n",
    "        n_temp = np.array(data[i]['zg'])[t_index] # rydberg population at time t\n",
    "        n_temp_mean = np.mean(n_temp)\n",
    "        nn_temp = np.array(data[i]['zzg'])[t_index]\n",
    "        sigma_temp = (n_temp[:]-n_temp_mean)*sign\n",
    "        sigma1_g.append(sigma_temp)\n",
    "        for x in x_temp:\n",
    "            temp_g = (-1)**x *(nn_temp[0,x]-n_temp_mean*n_temp[0]-n_temp_mean*n_temp[x]+n_temp_mean**2)\n",
    "            sigma2_g.append(temp_g)\n",
    "    sigma2_g = np.array(sigma2_g)\n",
    "    sigma2_g = sigma2_g.reshape(len(data[i]['zg']),N[i])\n",
    "    sigma_1_g_list.append(sigma1_g)   \n",
    "    sigma_2_g_list.append(sigma2_g)\n",
    "order_g_list = []\n",
    "det_g_list = []\n",
    "for i_n,i in enumerate(range(len(N))):\n",
    "#for i_n,i in enumerate([0,1,3]):\n",
    "    print(len(x_list[i]))\n",
    "    temp = sigma_2_g_list[i][20::5]\n",
    "    x = detuning[i][20::5]\n",
    "    det_g_list.append(x)\n",
    "    y = np.sum(temp,axis=1)\n",
    "    order_g_list.append(y)\n",
    "    plt.plot(x,y,marker = '+',markersize = 7, ls ='')\n",
    "    plt.plot(detuning[i][20:],np.sum(sigma_2_g_list[i][20:],axis=1),marker = 'o',markersize = 3,ls ='',alpha = 0.2)\n",
    "#plt.yscale('log')\n",
    "sampled_y = np.array(sampled_y)\n",
    "#plt.ylim([0.1,0.8])\n"
   ]
  },
  {
   "cell_type": "code",
   "execution_count": 24,
   "metadata": {
    "ExecuteTime": {
     "end_time": "2023-01-14T05:24:46.744716Z",
     "start_time": "2023-01-14T05:24:46.404360Z"
    }
   },
   "outputs": [
    {
     "name": "stdout",
     "output_type": "stream",
     "text": [
      "[1.63312247 4.32637772 0.32331733]\n",
      "[1.62841848 2.14619669 0.7521779 ]\n",
      "[0.02041846 0.05038146 0.03683932]\n",
      "[1.63642092 4.97036713 0.26800993]\n",
      "[1.63452911 2.47176215 0.62723907]\n",
      "[0.01924711 0.06247399 0.03540459]\n",
      "[1.63490936 5.84688998 0.25256646]\n",
      "[1.63606871 2.91793094 0.59664907]\n",
      "[0.02541284 0.10091687 0.04694699]\n",
      "[1.63351108 6.06286251 0.23950473]\n",
      "[1.63053369 3.0100908  0.55809317]\n",
      "[0.01959771 0.08434207 0.03661852]\n"
     ]
    },
    {
     "data": {
      "image/png": "[encoded data removed]",
      "text/plain": [
       "<Figure size 432x288 with 1 Axes>"
      ]
     },
     "metadata": {
      "needs_background": "light"
     },
     "output_type": "display_data"
    }
   ],
   "source": [
    "for i in range(len(N)):\n",
    "    plt.plot(det_g_list[i],order_g_list[i],ls='',marker='.')\n",
    "    x_list = np.linspace(-5,6,100)\n",
    "    #plt.plot(x_list,func_logistic(x_list,1.45,13,0.3))\n",
    "    #plt.plot(x_list,(scipy.special.erf(x_list)+1)*7)\n",
    "    p,perr = curve_fit(func_logistic,det_list[i],order_list[i],p0=[1.45,13,0.3])\n",
    "    print(p)\n",
    "    plt.plot(x_list,func_logistic(x_list,*p))\n",
    "\n",
    "    p,perr = curve_fit(func_erf,det_list[i],order_list[i],p0=[1.45,13,0.3])\n",
    "    print(p)\n",
    "    print(np.diag(perr)**0.5)\n",
    "    plt.plot(x_list,func_erf(x_list,*p))"
   ]
  },
  {
   "cell_type": "code",
   "execution_count": null,
   "metadata": {},
   "outputs": [],
   "source": []
  }
 ],
 "metadata": {
  "kernelspec": {
   "display_name": "Python 3",
   "language": "python",
   "name": "python3"
  },
  "language_info": {
   "codemirror_mode": {
    "name": "ipython",
    "version": 3
   },
   "file_extension": ".py",
   "mimetype": "text/x-python",
   "name": "python",
   "nbconvert_exporter": "python",
   "pygments_lexer": "ipython3",
   "version": "3.7.3"
  }
 },
 "nbformat": 4,
 "nbformat_minor": 2
}
