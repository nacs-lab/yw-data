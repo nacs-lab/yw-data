{
 "cells": [
  {
   "cell_type": "code",
   "execution_count": 1,
   "metadata": {
    "ExecuteTime": {
     "end_time": "2023-02-08T00:52:09.179831Z",
     "start_time": "2023-02-08T00:52:08.148366Z"
    }
   },
   "outputs": [],
   "source": [
    "import fssa\n",
    "import numpy as np\n",
    "import matplotlib.pyplot as plt\n",
    "from itertools import product\n",
    "from scipy.optimize import curve_fit\n",
    "import matplotlib.colors as colors\n",
    "from numpy import polyfit, poly1d\n",
    "from scipy.interpolate import interp1d\n",
    "import glob\n",
    "from scipy import signal"
   ]
  },
  {
   "cell_type": "code",
   "execution_count": 6,
   "metadata": {
    "ExecuteTime": {
     "end_time": "2023-02-08T01:03:29.620675Z",
     "start_time": "2023-02-08T01:03:29.578091Z"
    }
   },
   "outputs": [],
   "source": [
    "#20 sites\n",
    "file_name = '2023_02*L24multistep.npy' \n",
    "data = []\n",
    "data_path = glob.glob(('C:/Users/wangy/Rydberg simulation/rydberg_data/2_6_23/'+file_name))\n",
    "for path in data_path:\n",
    "    data.append(np.load(path,allow_pickle=True).tolist())"
   ]
  },
  {
   "cell_type": "code",
   "execution_count": 11,
   "metadata": {
    "ExecuteTime": {
     "end_time": "2023-02-08T01:05:13.081774Z",
     "start_time": "2023-02-08T01:05:13.065449Z"
    }
   },
   "outputs": [
    {
     "name": "stdout",
     "output_type": "stream",
     "text": [
      "C:/Users/wangy/Rydberg simulation/rydberg_data/2_6_23\\2023_02_06_22_54_19_68L24multistep.npy\n",
      "{'dirc': '/n/home03/bye/tenpy_squeezing/workfolder_yu/output_cluster/', 'L': 24, 'Omega': 1.5, 'U': 9.0, 'chi': 128, 'N_steps': 1, 'Rabi_ramp_time': 2.0, 'Rabi_ramp_dt': 0.1, 'T_UniLILA': 5.0, 'T_UniLILA_stop': 2.0, 'Gap_init': 5.26, 'Gap_crit': 0.355, 'Delta_ini': -5.0, 'Delta_crit': 1.6, 'dt': 0.05, 'twait': 3.0, 'dt_wait': 0.1}\n",
      "151\n",
      "C:/Users/wangy/Rydberg simulation/rydberg_data/2_6_23\\2023_02_06_22_54_19_870L24multistep.npy\n",
      "{'dirc': '/n/home03/bye/tenpy_squeezing/workfolder_yu/output_cluster/', 'L': 24, 'Omega': 1.5, 'U': 9.0, 'chi': 128, 'N_steps': 1, 'Rabi_ramp_time': 2.0, 'Rabi_ramp_dt': 0.1, 'T_UniLILA': 5.0, 'T_UniLILA_stop': 2.0, 'Gap_init': 5.26, 'Gap_crit': 0.355, 'Delta_ini': -5.0, 'Delta_crit': 1.6, 'dt': 0.05, 'twait': 2.0, 'dt_wait': 0.1}\n",
      "2\n",
      "C:/Users/wangy/Rydberg simulation/rydberg_data/2_6_23\\2023_02_06_22_58_32_78L24multistep.npy\n",
      "{'dirc': '/n/home03/bye/tenpy_squeezing/workfolder_yu/output_cluster/', 'L': 24, 'Omega': 1.5, 'U': 9.0, 'chi': 128, 'N_steps': 1, 'Rabi_ramp_time': 2.0, 'Rabi_ramp_dt': 0.1, 'T_UniLILA': 5.0, 'T_UniLILA_stop': 2.0, 'Gap_init': 5.26, 'Gap_crit': 0.355, 'Delta_ini': -5.0, 'Delta_crit': 1.6, 'dt': 0.05, 'twait': 2.0, 'dt_wait': 0.1}\n",
      "59\n",
      "C:/Users/wangy/Rydberg simulation/rydberg_data/2_6_23\\2023_02_06_23_07_31_190L24multistep.npy\n",
      "{'dirc': '/n/home03/bye/tenpy_squeezing/workfolder_yu/output_cluster/', 'L': 24, 'Omega': 1.5, 'U': 9.0, 'chi': 128, 'N_steps': 1, 'Rabi_ramp_time': 2.0, 'Rabi_ramp_dt': 0.1, 'T_UniLILA': 5.0, 'T_UniLILA_stop': 1.0, 'Gap_init': 5.26, 'Gap_crit': 0.355, 'Delta_ini': -5.0, 'Delta_crit': 1.6, 'dt': 0.05, 'T_total': 13.0, 'dt_wait': 0.1}\n",
      "151\n",
      "C:/Users/wangy/Rydberg simulation/rydberg_data/2_6_23\\2023_02_06_23_07_31_268L24multistep.npy\n",
      "{'dirc': '/n/home03/bye/tenpy_squeezing/workfolder_yu/output_cluster/', 'L': 24, 'Omega': 1.5, 'U': 9.0, 'chi': 128, 'N_steps': 1, 'Rabi_ramp_time': 2.0, 'Rabi_ramp_dt': 0.1, 'T_UniLILA': 5.0, 'T_UniLILA_stop': 2.0, 'Gap_init': 5.26, 'Gap_crit': 0.355, 'Delta_ini': -5.0, 'Delta_crit': 1.6, 'dt': 0.05, 'T_total': 13.0, 'dt_wait': 0.1}\n",
      "171\n",
      "C:/Users/wangy/Rydberg simulation/rydberg_data/2_6_23\\2023_02_06_23_07_31_303L24multistep.npy\n",
      "{'dirc': '/n/home03/bye/tenpy_squeezing/workfolder_yu/output_cluster/', 'L': 24, 'Omega': 1.5, 'U': 9.0, 'chi': 128, 'N_steps': 1, 'Rabi_ramp_time': 2.0, 'Rabi_ramp_dt': 0.1, 'T_UniLILA': 5.0, 'T_UniLILA_stop': 4.0, 'Gap_init': 5.26, 'Gap_crit': 0.355, 'Delta_ini': -5.0, 'Delta_crit': 1.6, 'dt': 0.05, 'T_total': 13.0, 'dt_wait': 0.1}\n",
      "211\n",
      "C:/Users/wangy/Rydberg simulation/rydberg_data/2_6_23\\2023_02_06_23_07_31_430L24multistep.npy\n",
      "{'dirc': '/n/home03/bye/tenpy_squeezing/workfolder_yu/output_cluster/', 'L': 24, 'Omega': 1.5, 'U': 9.0, 'chi': 128, 'N_steps': 1, 'Rabi_ramp_time': 2.0, 'Rabi_ramp_dt': 0.1, 'T_UniLILA': 5.0, 'T_UniLILA_stop': 4.5, 'Gap_init': 5.26, 'Gap_crit': 0.355, 'Delta_ini': -5.0, 'Delta_crit': 1.6, 'dt': 0.05, 'T_total': 13.0, 'dt_wait': 0.1}\n",
      "221\n",
      "C:/Users/wangy/Rydberg simulation/rydberg_data/2_6_23\\2023_02_06_23_07_31_772L24multistep.npy\n",
      "{'dirc': '/n/home03/bye/tenpy_squeezing/workfolder_yu/output_cluster/', 'L': 24, 'Omega': 1.5, 'U': 9.0, 'chi': 128, 'N_steps': 1, 'Rabi_ramp_time': 2.0, 'Rabi_ramp_dt': 0.1, 'T_UniLILA': 5.0, 'T_UniLILA_stop': 3.0, 'Gap_init': 5.26, 'Gap_crit': 0.355, 'Delta_ini': -5.0, 'Delta_crit': 1.6, 'dt': 0.05, 'T_total': 13.0, 'dt_wait': 0.1}\n",
      "70\n",
      "C:/Users/wangy/Rydberg simulation/rydberg_data/2_6_23\\2023_02_07_00_52_08_586L24multistep.npy\n",
      "{'dirc': '/n/home03/bye/tenpy_squeezing/workfolder_yu/output_cluster/', 'L': 24, 'Omega': 1.5, 'U': 9.0, 'chi': 128, 'N_steps': 1, 'Rabi_ramp_time': 2.0, 'Rabi_ramp_dt': 0.1, 'T_UniLILA': 5.0, 'T_UniLILA_stop': 3.0, 'Gap_init': 5.26, 'Gap_crit': 0.355, 'Delta_ini': -5.0, 'Delta_crit': 1.6, 'dt': 0.05, 'T_total': 13.0, 'dt_wait': 0.1}\n",
      "191\n",
      "C:/Users/wangy/Rydberg simulation/rydberg_data/2_6_23\\2023_02_07_01_21_09_645L24multistep.npy\n",
      "{'dirc': '/n/home03/bye/tenpy_squeezing/workfolder_yu/output_cluster/', 'L': 24, 'Omega': 1.5, 'U': 9.0, 'chi': 128, 'N_steps': 1, 'Rabi_ramp_time': 2.0, 'Rabi_ramp_dt': 0.1, 'T_UniLILA': 5.0, 'T_UniLILA_stop': 2.0, 'Gap_init': 5.26, 'Gap_crit': 0.355, 'Delta_ini': -5.0, 'Delta_crit': 1.6, 'dt': 0.05, 'twait': 2.0, 'dt_wait': 0.1}\n",
      "13\n",
      "C:/Users/wangy/Rydberg simulation/rydberg_data/2_6_23\\2023_02_07_02_08_55_452L24multistep.npy\n",
      "{'dirc': '/n/home03/bye/tenpy_squeezing/workfolder_yu/output_cluster/', 'L': 24, 'Omega': 1.5, 'U': 9.0, 'chi': 128, 'N_steps': 1, 'Rabi_ramp_time': 2.0, 'Rabi_ramp_dt': 0.1, 'T_UniLILA': 5.0, 'T_UniLILA_stop': 2.0, 'Gap_init': 5.26, 'Gap_crit': 0.355, 'Delta_ini': -5.0, 'Delta_crit': 1.6, 'dt': 0.05, 'twait': 2.0, 'dt_wait': 0.1}\n",
      "141\n"
     ]
    }
   ],
   "source": [
    "selected_data = []\n",
    "for i in range(len(data)):\n",
    "    print(data_path[i])\n",
    "    print(data[i]['params'])\n",
    "    print(len(data[i]['z']))\n",
    "\n",
    "#     if data[i]['params']['T_DiLILA']==8 and len(data[i]['z'])>100:\n",
    "#         selected_data.append(data[i])"
   ]
  },
  {
   "cell_type": "code",
   "execution_count": null,
   "metadata": {},
   "outputs": [],
   "source": []
  }
 ],
 "metadata": {
  "kernelspec": {
   "display_name": "Python 3",
   "language": "python",
   "name": "python3"
  },
  "language_info": {
   "codemirror_mode": {
    "name": "ipython",
    "version": 3
   },
   "file_extension": ".py",
   "mimetype": "text/x-python",
   "name": "python",
   "nbconvert_exporter": "python",
   "pygments_lexer": "ipython3",
   "version": "3.7.3"
  }
 },
 "nbformat": 4,
 "nbformat_minor": 2
}
