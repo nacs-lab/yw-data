{
 "cells": [
  {
   "cell_type": "code",
   "execution_count": 161,
   "metadata": {
    "ExecuteTime": {
     "end_time": "2023-02-02T01:54:59.879366Z",
     "start_time": "2023-02-02T01:54:59.749137Z"
    }
   },
   "outputs": [],
   "source": [
    "import fssa\n",
    "import numpy as np\n",
    "import matplotlib.pyplot as plt\n",
    "from itertools import product\n",
    "from scipy.optimize import curve_fit\n",
    "import matplotlib.colors as colors\n",
    "from numpy import polyfit, poly1d\n",
    "from scipy.interpolate import interp1d\n",
    "import glob\n",
    "from scipy import signal"
   ]
  },
  {
   "cell_type": "code",
   "execution_count": 6,
   "metadata": {
    "ExecuteTime": {
     "end_time": "2023-01-31T21:18:09.457132Z",
     "start_time": "2023-01-31T21:18:09.162562Z"
    }
   },
   "outputs": [
    {
     "data": {
      "text/plain": [
       "<matplotlib.legend.Legend at 0x1ac4e0bd9e8>"
      ]
     },
     "execution_count": 6,
     "metadata": {},
     "output_type": "execute_result"
    },
    {
     "data": {
      "image/png": "[encoded data removed]",
      "text/plain": [
       "<Figure size 432x288 with 1 Axes>"
      ]
     },
     "metadata": {
      "needs_background": "light"
     },
     "output_type": "display_data"
    }
   ],
   "source": [
    "sim = np.array([0.13792135, 0.12028111, 0.10784815 ,0.10242254 ,0.09802149, 0.09494422,\n",
    " 0.09208105, 0.08920631, 0.08717702])\n",
    "exp =np.array([0.1249,    0.0815,    0.0648 ,   0.0409 ,   0.0324,    0.0199,    0.0235,    0.0106,0.0112])\n",
    "N = len(sim)\n",
    "x = np.arange(1,N+1)\n",
    "plt.plot(x,sim,ls='',marker = 'o',label ='sim')\n",
    "plt.plot(x,exp,ls = '',marker = 'o',label = 'exp')\n",
    "plt.legend()"
   ]
  },
  {
   "cell_type": "code",
   "execution_count": 50,
   "metadata": {
    "ExecuteTime": {
     "end_time": "2023-01-31T21:50:34.155844Z",
     "start_time": "2023-01-31T21:50:34.140784Z"
    }
   },
   "outputs": [],
   "source": [
    "data = np.loadtxt('C:/Users/wangy/Rydberg simulation/rydberg_data/1_30_23/SigmaField_cooling_PS.csv', delimiter = ',')\n",
    "#data = np.loadtxt('C:/Users/wangy/Rydberg simulation/rydberg_data/1_30_23/SigmaField_NoRamancooling_PS.csv', delimiter = ',')\n",
    "\n"
   ]
  },
  {
   "cell_type": "code",
   "execution_count": 35,
   "metadata": {
    "ExecuteTime": {
     "end_time": "2023-01-31T21:44:52.548407Z",
     "start_time": "2023-01-31T21:44:52.540406Z"
    }
   },
   "outputs": [],
   "source": [
    "def power_law(x, a, b):\n",
    "    return a * x**b"
   ]
  },
  {
   "cell_type": "code",
   "execution_count": 144,
   "metadata": {
    "ExecuteTime": {
     "end_time": "2023-02-01T05:22:03.103217Z",
     "start_time": "2023-02-01T05:22:03.090530Z"
    }
   },
   "outputs": [
    {
     "data": {
      "text/plain": [
       "0.078"
      ]
     },
     "execution_count": 144,
     "metadata": {},
     "output_type": "execute_result"
    }
   ],
   "source": [
    "0.12*0.65"
   ]
  },
  {
   "cell_type": "code",
   "execution_count": 212,
   "metadata": {
    "ExecuteTime": {
     "end_time": "2023-02-02T04:56:17.077871Z",
     "start_time": "2023-02-02T04:56:16.933203Z"
    }
   },
   "outputs": [
    {
     "name": "stdout",
     "output_type": "stream",
     "text": [
      "0.036749675\n"
     ]
    },
    {
     "data": {
      "text/plain": [
       "<matplotlib.legend.Legend at 0x1ac526a35f8>"
      ]
     },
     "execution_count": 212,
     "metadata": {},
     "output_type": "execute_result"
    },
    {
     "data": {
      "image/png": "[encoded data removed]",
      "text/plain": [
       "<Figure size 432x288 with 1 Axes>"
      ]
     },
     "metadata": {
      "needs_background": "light"
     },
     "output_type": "display_data"
    }
   ],
   "source": [
    "#plt.errorbar(data[:,0],data[:,1],data[:,2])\n",
    "print(np.average(data[:,1]))\n",
    "#plt.errorbar(data[:,0],data[:,1]*1.2+0.08,data[:,2],label = 'data*0.65+0.078')\n",
    "#plt.plot(data[:,0],simdata[:],marker = 'o',ls = '',label = 'sim')\n",
    "plt.errorbar(data[:,0],(data[:,1]),data[:,2],label = 'data')\n",
    "plt.plot(x,ave_sigma2_pos,marker = 'o',markersize = 3,ls = '',label = 'data-Kenneth')\n",
    "\n",
    "#plt.plot(data[:,0],expdata2*0.63+0.075,marker = 'o',ls = '',label = 'Ryan')\n",
    "#plt.errorbar(data[:,0],data[:,1],data[:,2],ls = '',label = 'Fang',marker = 'o')\n",
    "\n",
    "#plt.plot(data[1:10,0],power_law(data[1:10,0],0.21,-0.3))\n",
    "plt.legend()\n",
    "# plt.xscale('log')\n",
    "# plt.yscale('log')"
   ]
  },
  {
   "cell_type": "code",
   "execution_count": 38,
   "metadata": {
    "ExecuteTime": {
     "end_time": "2023-01-31T21:47:21.149761Z",
     "start_time": "2023-01-31T21:47:21.134590Z"
    }
   },
   "outputs": [],
   "source": [
    "simdata=np.array([0.23513887,0.13725895,0.12036162,0.10676615,0.09915829,0.09256072,0.08863921,0.08592485,0.08398068,0.08241807,0.0810125,0.0797318,0.07954196,0.07972313,0.08086032,0.08160596,0.08327514,0.08496372,0.08886353,0.09280065,0.09930302,0.10668414,0.12048065,0.1373209,])"
   ]
  },
  {
   "cell_type": "code",
   "execution_count": 39,
   "metadata": {
    "ExecuteTime": {
     "end_time": "2023-01-31T21:47:22.425547Z",
     "start_time": "2023-01-31T21:47:22.414550Z"
    }
   },
   "outputs": [
    {
     "data": {
      "text/plain": [
       "array([0.01530887, 0.01759895, 0.04496162, 0.04421715, 0.05828329,\n",
       "       0.05583872, 0.06424821, 0.05996885, 0.07100468, 0.06726707,\n",
       "       0.0713603 , 0.0637498 , 0.07390966, 0.06374113, 0.07120812,\n",
       "       0.06645496, 0.07029914, 0.05900772, 0.06447253, 0.05607865,\n",
       "       0.05842802, 0.04413514, 0.04508065, 0.0176609 ])"
      ]
     },
     "execution_count": 39,
     "metadata": {},
     "output_type": "execute_result"
    }
   ],
   "source": [
    "simdata - data[:,1]"
   ]
  },
  {
   "cell_type": "code",
   "execution_count": 115,
   "metadata": {
    "ExecuteTime": {
     "end_time": "2023-02-01T04:33:58.339364Z",
     "start_time": "2023-02-01T04:33:58.329370Z"
    }
   },
   "outputs": [],
   "source": [
    "expdata2 = np.array([0.2230,0.1116,0.0711,0.0480,0.0299,0.0234,0.0162,0.0145,0.0127,0.0104,0.0078,0.0076,0.0081,0.0076,0.0078,0.0104,0.0127,0.0145,0.0162,0.0234,0.0299,0.0480,0.0711,0.1116])"
   ]
  },
  {
   "cell_type": "code",
   "execution_count": 153,
   "metadata": {
    "ExecuteTime": {
     "end_time": "2023-02-01T18:38:34.639532Z",
     "start_time": "2023-02-01T18:38:34.614235Z"
    }
   },
   "outputs": [
    {
     "data": {
      "text/plain": [
       "0.7046880897187134"
      ]
     },
     "execution_count": 153,
     "metadata": {},
     "output_type": "execute_result"
    }
   ],
   "source": [
    "np.exp(-7/20)"
   ]
  },
  {
   "cell_type": "code",
   "execution_count": 162,
   "metadata": {
    "ExecuteTime": {
     "end_time": "2023-02-02T01:56:18.961633Z",
     "start_time": "2023-02-02T01:56:18.898366Z"
    }
   },
   "outputs": [],
   "source": [
    "temp = np.loadtxt('C:/Users/wangy/Downloads/corr_data_20230130_095742.csv',delimiter = ',')"
   ]
  },
  {
   "cell_type": "code",
   "execution_count": 193,
   "metadata": {
    "ExecuteTime": {
     "end_time": "2023-02-02T04:48:19.173919Z",
     "start_time": "2023-02-02T04:48:19.156602Z"
    }
   },
   "outputs": [],
   "source": [
    "N = 24\n",
    "sigma2_pos = temp[0:N]\n",
    "sigma1_pos = temp[N]"
   ]
  },
  {
   "cell_type": "code",
   "execution_count": 194,
   "metadata": {
    "ExecuteTime": {
     "end_time": "2023-02-02T04:48:22.279278Z",
     "start_time": "2023-02-02T04:48:22.274265Z"
    }
   },
   "outputs": [
    {
     "data": {
      "text/plain": [
       "(24, 24)"
      ]
     },
     "execution_count": 194,
     "metadata": {},
     "output_type": "execute_result"
    }
   ],
   "source": [
    "np.shape(sigma2_pos)"
   ]
  },
  {
   "cell_type": "code",
   "execution_count": 196,
   "metadata": {
    "ExecuteTime": {
     "end_time": "2023-02-02T04:49:06.190243Z",
     "start_time": "2023-02-02T04:49:06.173821Z"
    }
   },
   "outputs": [],
   "source": [
    "ave_sigma2_pos = []\n",
    "for i in range(N):\n",
    "    ave_sigma2_pos.append(np.trace(sigma2_pos,i)+np.trace(sigma2_pos,i-N))\n",
    "ave_sigma2_pos = np.array(ave_sigma2_pos)/N\n",
    "\n",
    "cor_ave_sigma2_pos = []\n",
    "cor_sigma2_pos = np.zeros([N,N])\n",
    "for i in range(N):\n",
    "    for j in range(N):\n",
    "        cor_sigma2_pos[i,j] = sigma2_pos[i,j]-sigma1_pos[i]*sigma1_pos[j]\n",
    "for i in range(N):\n",
    "    cor_ave_sigma2_pos.append(np.trace(cor_sigma2_pos,i)+np.trace(cor_sigma2_pos,i-N))\n",
    "cor_ave_sigma2_pos = np.array(cor_ave_sigma2_pos)/N"
   ]
  },
  {
   "cell_type": "code",
   "execution_count": 239,
   "metadata": {
    "ExecuteTime": {
     "end_time": "2023-02-02T05:17:19.982373Z",
     "start_time": "2023-02-02T05:17:19.971373Z"
    }
   },
   "outputs": [],
   "source": [
    "def fit_func(x,k,b):\n",
    "    return np.log(k*ave_sigma2_pos+b)"
   ]
  },
  {
   "cell_type": "code",
   "execution_count": 240,
   "metadata": {
    "ExecuteTime": {
     "end_time": "2023-02-02T05:17:33.686843Z",
     "start_time": "2023-02-02T05:17:33.530624Z"
    }
   },
   "outputs": [
    {
     "name": "stdout",
     "output_type": "stream",
     "text": [
      "[0.6525804  0.07787249]\n",
      "[[ 5.94739919e-04 -1.24952974e-05]\n",
      " [-1.24952974e-05  7.11449972e-07]]\n"
     ]
    },
    {
     "data": {
      "text/plain": [
       "<matplotlib.legend.Legend at 0x1ac5419fcc0>"
      ]
     },
     "execution_count": 240,
     "metadata": {},
     "output_type": "execute_result"
    },
    {
     "data": {
      "image/png": "[encoded data removed]",
      "text/plain": [
       "<Figure size 432x288 with 1 Axes>"
      ]
     },
     "metadata": {
      "needs_background": "light"
     },
     "output_type": "display_data"
    }
   ],
   "source": [
    "x = np.arange(N)\n",
    "plt.plot(x,ave_sigma2_pos,marker = 'o',ls = '',label = 'original data-Kenneth')\n",
    "#plt.plot(x,cor_ave_sigma2_pos,marker = 'o',ls = '',label = 'data-Kenneth-cor')\n",
    "p,perr = curve_fit(fit_func,np.arange(len(ave_sigma2_pos)),np.log(simdata),p0=[0.7,0.07])\n",
    "print(p)\n",
    "print(perr)\n",
    "plt.plot(data[:,0],simdata,marker = 'o',ls = '',label = 'sim')\n",
    "plt.plot(data[:,0],ave_sigma2_pos*p[0]+p[1],marker = 'o',ls = '',label = 'fitted data')\n",
    "\n",
    "# plt.plot(data[:,0],simdata,marker = 'o',ls = '',label = 'sim')\n",
    "# plt.plot(data[:,0],simdata*p[0]+p[1],marker = 'o',ls = '',label = 'fitted')\n",
    "plt.legend()\n",
    "#plt.xscale('log')\n",
    "#plt.yscale('log')"
   ]
  },
  {
   "cell_type": "code",
   "execution_count": 187,
   "metadata": {
    "ExecuteTime": {
     "end_time": "2023-02-02T04:45:18.722386Z",
     "start_time": "2023-02-02T04:45:18.568388Z"
    }
   },
   "outputs": [
    {
     "data": {
      "text/plain": [
       "<matplotlib.legend.Legend at 0x1ac527bbe48>"
      ]
     },
     "execution_count": 187,
     "metadata": {},
     "output_type": "execute_result"
    },
    {
     "data": {
      "image/png": "[encoded data removed]",
      "text/plain": [
       "<Figure size 432x288 with 1 Axes>"
      ]
     },
     "metadata": {
      "needs_background": "light"
     },
     "output_type": "display_data"
    }
   ],
   "source": [
    "plt.plot(x,sigma1_pos,marker = 'o',ls = '',label = '$\\sigma_i$')\n",
    "plt.legend()"
   ]
  },
  {
   "cell_type": "code",
   "execution_count": 198,
   "metadata": {
    "ExecuteTime": {
     "end_time": "2023-02-02T04:49:47.395231Z",
     "start_time": "2023-02-02T04:49:47.385204Z"
    }
   },
   "outputs": [
    {
     "data": {
      "text/plain": [
       "array([0.00121929, 0.0007626 , 0.00065188, 0.0004877 , 0.00041185,\n",
       "       0.00047608, 0.00016625, 0.00021522, 0.0002128 , 0.0004618 ,\n",
       "       0.00055705, 0.00042737, 0.00044325, 0.00042737, 0.00055705,\n",
       "       0.0004618 , 0.0002128 , 0.00021522, 0.00016625, 0.00047608,\n",
       "       0.00041185, 0.0004877 , 0.00065188, 0.0007626 ])"
      ]
     },
     "execution_count": 198,
     "metadata": {},
     "output_type": "execute_result"
    }
   ],
   "source": [
    "ave_sigma2_pos-cor_ave_sigma2_pos"
   ]
  },
  {
   "cell_type": "code",
   "execution_count": null,
   "metadata": {},
   "outputs": [],
   "source": []
  }
 ],
 "metadata": {
  "kernelspec": {
   "display_name": "Python 3",
   "language": "python",
   "name": "python3"
  },
  "language_info": {
   "codemirror_mode": {
    "name": "ipython",
    "version": 3
   },
   "file_extension": ".py",
   "mimetype": "text/x-python",
   "name": "python",
   "nbconvert_exporter": "python",
   "pygments_lexer": "ipython3",
   "version": "3.7.3"
  }
 },
 "nbformat": 4,
 "nbformat_minor": 2
}
